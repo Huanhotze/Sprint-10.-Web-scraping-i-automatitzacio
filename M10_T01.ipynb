{
  "cells": [
    {
      "cell_type": "markdown",
      "metadata": {
        "id": "5818753a"
      },
      "source": [
        "# Tasca M10 T01"
      ]
    },
    {
      "cell_type": "markdown",
      "metadata": {
        "id": "JCMfN8Dv0l03"
      },
      "source": [
        "##### Install"
      ]
    },
    {
      "cell_type": "code",
      "execution_count": 1,
      "metadata": {
        "id": "a_a22EppscDl",
        "colab": {
          "base_uri": "https://localhost:8080/"
        },
        "outputId": "8581a987-cdd5-4fea-930a-1beb4be6689c"
      },
      "outputs": [
        {
          "output_type": "stream",
          "name": "stdout",
          "text": [
            "Looking in indexes: https://pypi.org/simple, https://us-python.pkg.dev/colab-wheels/public/simple/\n",
            "Collecting selenium\n",
            "  Downloading selenium-4.5.0-py3-none-any.whl (995 kB)\n",
            "\u001b[K     |████████████████████████████████| 995 kB 30.4 MB/s \n",
            "\u001b[?25hRequirement already satisfied: certifi>=2021.10.8 in /usr/local/lib/python3.7/dist-packages (from selenium) (2022.9.24)\n",
            "Collecting urllib3[socks]~=1.26\n",
            "  Downloading urllib3-1.26.12-py2.py3-none-any.whl (140 kB)\n",
            "\u001b[K     |████████████████████████████████| 140 kB 49.7 MB/s \n",
            "\u001b[?25hCollecting trio~=0.17\n",
            "  Downloading trio-0.22.0-py3-none-any.whl (384 kB)\n",
            "\u001b[K     |████████████████████████████████| 384 kB 72.0 MB/s \n",
            "\u001b[?25hCollecting trio-websocket~=0.9\n",
            "  Downloading trio_websocket-0.9.2-py3-none-any.whl (16 kB)\n",
            "Requirement already satisfied: sortedcontainers in /usr/local/lib/python3.7/dist-packages (from trio~=0.17->selenium) (2.4.0)\n",
            "Collecting async-generator>=1.9\n",
            "  Downloading async_generator-1.10-py3-none-any.whl (18 kB)\n",
            "Requirement already satisfied: attrs>=19.2.0 in /usr/local/lib/python3.7/dist-packages (from trio~=0.17->selenium) (22.1.0)\n",
            "Collecting exceptiongroup>=1.0.0rc9\n",
            "  Downloading exceptiongroup-1.0.0rc9-py3-none-any.whl (12 kB)\n",
            "Collecting outcome\n",
            "  Downloading outcome-1.2.0-py2.py3-none-any.whl (9.7 kB)\n",
            "Collecting sniffio\n",
            "  Downloading sniffio-1.3.0-py3-none-any.whl (10 kB)\n",
            "Requirement already satisfied: idna in /usr/local/lib/python3.7/dist-packages (from trio~=0.17->selenium) (2.10)\n",
            "Collecting wsproto>=0.14\n",
            "  Downloading wsproto-1.2.0-py3-none-any.whl (24 kB)\n",
            "Requirement already satisfied: PySocks!=1.5.7,<2.0,>=1.5.6 in /usr/local/lib/python3.7/dist-packages (from urllib3[socks]~=1.26->selenium) (1.7.1)\n",
            "Collecting h11<1,>=0.9.0\n",
            "  Downloading h11-0.14.0-py3-none-any.whl (58 kB)\n",
            "\u001b[K     |████████████████████████████████| 58 kB 6.9 MB/s \n",
            "\u001b[?25hRequirement already satisfied: typing-extensions in /usr/local/lib/python3.7/dist-packages (from h11<1,>=0.9.0->wsproto>=0.14->trio-websocket~=0.9->selenium) (4.1.1)\n",
            "Installing collected packages: sniffio, outcome, h11, exceptiongroup, async-generator, wsproto, urllib3, trio, trio-websocket, selenium\n",
            "  Attempting uninstall: urllib3\n",
            "    Found existing installation: urllib3 1.24.3\n",
            "    Uninstalling urllib3-1.24.3:\n",
            "      Successfully uninstalled urllib3-1.24.3\n",
            "\u001b[31mERROR: pip's dependency resolver does not currently take into account all the packages that are installed. This behaviour is the source of the following dependency conflicts.\n",
            "requests 2.23.0 requires urllib3!=1.25.0,!=1.25.1,<1.26,>=1.21.1, but you have urllib3 1.26.12 which is incompatible.\u001b[0m\n",
            "Successfully installed async-generator-1.10 exceptiongroup-1.0.0rc9 h11-0.14.0 outcome-1.2.0 selenium-4.5.0 sniffio-1.3.0 trio-0.22.0 trio-websocket-0.9.2 urllib3-1.26.12 wsproto-1.2.0\n",
            "Get:1 https://cloud.r-project.org/bin/linux/ubuntu bionic-cran40/ InRelease [3,626 B]\n",
            "Hit:2 http://ppa.launchpad.net/c2d4u.team/c2d4u4.0+/ubuntu bionic InRelease\n",
            "Hit:3 http://archive.ubuntu.com/ubuntu bionic InRelease\n",
            "Ign:4 https://developer.download.nvidia.com/compute/machine-learning/repos/ubuntu1804/x86_64  InRelease\n",
            "Get:5 http://security.ubuntu.com/ubuntu bionic-security InRelease [88.7 kB]\n",
            "Hit:6 https://developer.download.nvidia.com/compute/cuda/repos/ubuntu1804/x86_64  InRelease\n",
            "Get:7 http://archive.ubuntu.com/ubuntu bionic-updates InRelease [88.7 kB]\n",
            "Hit:8 https://developer.download.nvidia.com/compute/machine-learning/repos/ubuntu1804/x86_64  Release\n",
            "Hit:9 http://ppa.launchpad.net/cran/libgit2/ubuntu bionic InRelease\n",
            "Get:10 http://ppa.launchpad.net/deadsnakes/ppa/ubuntu bionic InRelease [15.9 kB]\n",
            "Get:11 http://archive.ubuntu.com/ubuntu bionic-backports InRelease [83.3 kB]\n",
            "Hit:12 http://ppa.launchpad.net/graphics-drivers/ppa/ubuntu bionic InRelease\n",
            "Get:14 http://security.ubuntu.com/ubuntu bionic-security/universe amd64 Packages [1,554 kB]\n",
            "Get:15 http://archive.ubuntu.com/ubuntu bionic-updates/main amd64 Packages [3,467 kB]\n",
            "Get:16 http://security.ubuntu.com/ubuntu bionic-security/main amd64 Packages [3,035 kB]\n",
            "Get:17 http://security.ubuntu.com/ubuntu bionic-security/restricted amd64 Packages [1,210 kB]\n",
            "Get:18 http://archive.ubuntu.com/ubuntu bionic-updates/restricted amd64 Packages [1,251 kB]\n",
            "Get:19 http://archive.ubuntu.com/ubuntu bionic-updates/multiverse amd64 Packages [37.1 kB]\n",
            "Get:20 http://archive.ubuntu.com/ubuntu bionic-updates/universe amd64 Packages [2,332 kB]\n",
            "Get:21 http://ppa.launchpad.net/deadsnakes/ppa/ubuntu bionic/main amd64 Packages [44.0 kB]\n",
            "Get:22 http://archive.ubuntu.com/ubuntu bionic-backports/main amd64 Packages [93.6 kB]\n",
            "Get:23 http://archive.ubuntu.com/ubuntu bionic-backports/universe amd64 Packages [23.9 kB]\n",
            "Fetched 13.3 MB in 6s (2,308 kB/s)\n",
            "Reading package lists... Done\n",
            "Reading package lists... Done\n",
            "Building dependency tree       \n",
            "Reading state information... Done\n",
            "The following package was automatically installed and is no longer required:\n",
            "  libnvidia-common-460\n",
            "Use 'apt autoremove' to remove it.\n",
            "The following additional packages will be installed:\n",
            "  chromium-browser chromium-browser-l10n chromium-codecs-ffmpeg-extra\n",
            "Suggested packages:\n",
            "  webaccounts-chromium-extension unity-chromium-extension\n",
            "The following NEW packages will be installed:\n",
            "  chromium-browser chromium-browser-l10n chromium-chromedriver\n",
            "  chromium-codecs-ffmpeg-extra\n",
            "0 upgraded, 4 newly installed, 0 to remove and 27 not upgraded.\n",
            "Need to get 91.7 MB of archives.\n",
            "After this operation, 309 MB of additional disk space will be used.\n",
            "Get:1 http://archive.ubuntu.com/ubuntu bionic-updates/universe amd64 chromium-codecs-ffmpeg-extra amd64 105.0.5195.102-0ubuntu0.18.04.1 [1,156 kB]\n",
            "Get:2 http://archive.ubuntu.com/ubuntu bionic-updates/universe amd64 chromium-browser amd64 105.0.5195.102-0ubuntu0.18.04.1 [80.1 MB]\n",
            "Get:3 http://archive.ubuntu.com/ubuntu bionic-updates/universe amd64 chromium-browser-l10n all 105.0.5195.102-0ubuntu0.18.04.1 [5,097 kB]\n",
            "Get:4 http://archive.ubuntu.com/ubuntu bionic-updates/universe amd64 chromium-chromedriver amd64 105.0.5195.102-0ubuntu0.18.04.1 [5,320 kB]\n",
            "Fetched 91.7 MB in 3s (28.3 MB/s)\n",
            "Selecting previously unselected package chromium-codecs-ffmpeg-extra.\n",
            "(Reading database ... 123942 files and directories currently installed.)\n",
            "Preparing to unpack .../chromium-codecs-ffmpeg-extra_105.0.5195.102-0ubuntu0.18.04.1_amd64.deb ...\n",
            "Unpacking chromium-codecs-ffmpeg-extra (105.0.5195.102-0ubuntu0.18.04.1) ...\n",
            "Selecting previously unselected package chromium-browser.\n",
            "Preparing to unpack .../chromium-browser_105.0.5195.102-0ubuntu0.18.04.1_amd64.deb ...\n",
            "Unpacking chromium-browser (105.0.5195.102-0ubuntu0.18.04.1) ...\n",
            "Selecting previously unselected package chromium-browser-l10n.\n",
            "Preparing to unpack .../chromium-browser-l10n_105.0.5195.102-0ubuntu0.18.04.1_all.deb ...\n",
            "Unpacking chromium-browser-l10n (105.0.5195.102-0ubuntu0.18.04.1) ...\n",
            "Selecting previously unselected package chromium-chromedriver.\n",
            "Preparing to unpack .../chromium-chromedriver_105.0.5195.102-0ubuntu0.18.04.1_amd64.deb ...\n",
            "Unpacking chromium-chromedriver (105.0.5195.102-0ubuntu0.18.04.1) ...\n",
            "Setting up chromium-codecs-ffmpeg-extra (105.0.5195.102-0ubuntu0.18.04.1) ...\n",
            "Setting up chromium-browser (105.0.5195.102-0ubuntu0.18.04.1) ...\n",
            "update-alternatives: using /usr/bin/chromium-browser to provide /usr/bin/x-www-browser (x-www-browser) in auto mode\n",
            "update-alternatives: using /usr/bin/chromium-browser to provide /usr/bin/gnome-www-browser (gnome-www-browser) in auto mode\n",
            "Setting up chromium-chromedriver (105.0.5195.102-0ubuntu0.18.04.1) ...\n",
            "Setting up chromium-browser-l10n (105.0.5195.102-0ubuntu0.18.04.1) ...\n",
            "Processing triggers for man-db (2.8.3-2ubuntu0.1) ...\n",
            "Processing triggers for hicolor-icon-theme (0.17-2) ...\n",
            "Processing triggers for mime-support (3.60ubuntu1) ...\n",
            "Processing triggers for libc-bin (2.27-3ubuntu1.6) ...\n",
            "Looking in indexes: https://pypi.org/simple, https://us-python.pkg.dev/colab-wheels/public/simple/\n",
            "Collecting scrapy\n",
            "  Downloading Scrapy-2.7.0-py2.py3-none-any.whl (270 kB)\n",
            "\u001b[K     |████████████████████████████████| 270 kB 25.1 MB/s \n",
            "\u001b[?25hCollecting itemloaders>=1.0.1\n",
            "  Downloading itemloaders-1.0.6-py3-none-any.whl (11 kB)\n",
            "Collecting cssselect>=0.9.1\n",
            "  Downloading cssselect-1.1.0-py2.py3-none-any.whl (16 kB)\n",
            "Collecting zope.interface>=5.1.0\n",
            "  Downloading zope.interface-5.5.0-cp37-cp37m-manylinux_2_5_x86_64.manylinux1_x86_64.manylinux_2_12_x86_64.manylinux2010_x86_64.whl (254 kB)\n",
            "\u001b[K     |████████████████████████████████| 254 kB 65.7 MB/s \n",
            "\u001b[?25hCollecting protego>=0.1.15\n",
            "  Downloading Protego-0.2.1-py2.py3-none-any.whl (8.2 kB)\n",
            "Collecting service-identity>=18.1.0\n",
            "  Downloading service_identity-21.1.0-py2.py3-none-any.whl (12 kB)\n",
            "Collecting itemadapter>=0.1.0\n",
            "  Downloading itemadapter-0.7.0-py3-none-any.whl (10 kB)\n",
            "Requirement already satisfied: setuptools in /usr/local/lib/python3.7/dist-packages (from scrapy) (57.4.0)\n",
            "Collecting parsel>=1.5.0\n",
            "  Downloading parsel-1.6.0-py2.py3-none-any.whl (13 kB)\n",
            "Collecting pyOpenSSL>=21.0.0\n",
            "  Downloading pyOpenSSL-22.1.0-py3-none-any.whl (57 kB)\n",
            "\u001b[K     |████████████████████████████████| 57 kB 5.8 MB/s \n",
            "\u001b[?25hCollecting w3lib>=1.17.0\n",
            "  Downloading w3lib-2.0.1-py3-none-any.whl (20 kB)\n",
            "Collecting tldextract\n",
            "  Downloading tldextract-3.4.0-py3-none-any.whl (93 kB)\n",
            "\u001b[K     |████████████████████████████████| 93 kB 3.1 MB/s \n",
            "\u001b[?25hCollecting PyDispatcher>=2.0.5\n",
            "  Downloading PyDispatcher-2.0.6.tar.gz (38 kB)\n",
            "Requirement already satisfied: lxml>=4.3.0 in /usr/local/lib/python3.7/dist-packages (from scrapy) (4.9.1)\n",
            "Requirement already satisfied: packaging in /usr/local/lib/python3.7/dist-packages (from scrapy) (21.3)\n",
            "Collecting Twisted>=18.9.0\n",
            "  Downloading Twisted-22.8.0-py3-none-any.whl (3.1 MB)\n",
            "\u001b[K     |████████████████████████████████| 3.1 MB 36.8 MB/s \n",
            "\u001b[?25hCollecting queuelib>=1.4.2\n",
            "  Downloading queuelib-1.6.2-py2.py3-none-any.whl (13 kB)\n",
            "Collecting cryptography>=3.3\n",
            "  Downloading cryptography-38.0.1-cp36-abi3-manylinux_2_24_x86_64.whl (4.0 MB)\n",
            "\u001b[K     |████████████████████████████████| 4.0 MB 50.0 MB/s \n",
            "\u001b[?25hRequirement already satisfied: cffi>=1.12 in /usr/local/lib/python3.7/dist-packages (from cryptography>=3.3->scrapy) (1.15.1)\n",
            "Requirement already satisfied: pycparser in /usr/local/lib/python3.7/dist-packages (from cffi>=1.12->cryptography>=3.3->scrapy) (2.21)\n",
            "Collecting jmespath>=0.9.5\n",
            "  Downloading jmespath-1.0.1-py3-none-any.whl (20 kB)\n",
            "Requirement already satisfied: six>=1.6.0 in /usr/local/lib/python3.7/dist-packages (from parsel>=1.5.0->scrapy) (1.15.0)\n",
            "Requirement already satisfied: attrs>=19.1.0 in /usr/local/lib/python3.7/dist-packages (from service-identity>=18.1.0->scrapy) (22.1.0)\n",
            "Requirement already satisfied: pyasn1 in /usr/local/lib/python3.7/dist-packages (from service-identity>=18.1.0->scrapy) (0.4.8)\n",
            "Requirement already satisfied: pyasn1-modules in /usr/local/lib/python3.7/dist-packages (from service-identity>=18.1.0->scrapy) (0.2.8)\n",
            "Collecting Automat>=0.8.0\n",
            "  Downloading Automat-20.2.0-py2.py3-none-any.whl (31 kB)\n",
            "Requirement already satisfied: typing-extensions>=3.6.5 in /usr/local/lib/python3.7/dist-packages (from Twisted>=18.9.0->scrapy) (4.1.1)\n",
            "Collecting constantly>=15.1\n",
            "  Downloading constantly-15.1.0-py2.py3-none-any.whl (7.9 kB)\n",
            "Collecting incremental>=21.3.0\n",
            "  Downloading incremental-22.10.0-py2.py3-none-any.whl (16 kB)\n",
            "Collecting hyperlink>=17.1.1\n",
            "  Downloading hyperlink-21.0.0-py2.py3-none-any.whl (74 kB)\n",
            "\u001b[K     |████████████████████████████████| 74 kB 2.5 MB/s \n",
            "\u001b[?25hRequirement already satisfied: idna>=2.5 in /usr/local/lib/python3.7/dist-packages (from hyperlink>=17.1.1->Twisted>=18.9.0->scrapy) (2.10)\n",
            "Requirement already satisfied: pyparsing!=3.0.5,>=2.0.2 in /usr/local/lib/python3.7/dist-packages (from packaging->scrapy) (3.0.9)\n",
            "Collecting requests-file>=1.4\n",
            "  Downloading requests_file-1.5.1-py2.py3-none-any.whl (3.7 kB)\n",
            "Requirement already satisfied: requests>=2.1.0 in /usr/local/lib/python3.7/dist-packages (from tldextract->scrapy) (2.23.0)\n",
            "Requirement already satisfied: filelock>=3.0.8 in /usr/local/lib/python3.7/dist-packages (from tldextract->scrapy) (3.8.0)\n",
            "Requirement already satisfied: certifi>=2017.4.17 in /usr/local/lib/python3.7/dist-packages (from requests>=2.1.0->tldextract->scrapy) (2022.9.24)\n",
            "Requirement already satisfied: chardet<4,>=3.0.2 in /usr/local/lib/python3.7/dist-packages (from requests>=2.1.0->tldextract->scrapy) (3.0.4)\n",
            "Collecting urllib3!=1.25.0,!=1.25.1,<1.26,>=1.21.1\n",
            "  Downloading urllib3-1.25.11-py2.py3-none-any.whl (127 kB)\n",
            "\u001b[K     |████████████████████████████████| 127 kB 68.3 MB/s \n",
            "\u001b[?25hBuilding wheels for collected packages: PyDispatcher\n",
            "  Building wheel for PyDispatcher (setup.py) ... \u001b[?25l\u001b[?25hdone\n",
            "  Created wheel for PyDispatcher: filename=PyDispatcher-2.0.6-py3-none-any.whl size=11958 sha256=da7c87d93aef6ff4454261593da2a96dfab2dd01514e7d5e1ea7f55a0b492808\n",
            "  Stored in directory: /root/.cache/pip/wheels/c9/d6/6a/de198d890277cde60ca3dbebe7ae592d3b381c7d9bb2455f4d\n",
            "Successfully built PyDispatcher\n",
            "Installing collected packages: urllib3, w3lib, cssselect, zope.interface, requests-file, parsel, jmespath, itemadapter, incremental, hyperlink, cryptography, constantly, Automat, Twisted, tldextract, service-identity, queuelib, pyOpenSSL, PyDispatcher, protego, itemloaders, scrapy\n",
            "  Attempting uninstall: urllib3\n",
            "    Found existing installation: urllib3 1.26.12\n",
            "    Uninstalling urllib3-1.26.12:\n",
            "      Successfully uninstalled urllib3-1.26.12\n",
            "\u001b[31mERROR: pip's dependency resolver does not currently take into account all the packages that are installed. This behaviour is the source of the following dependency conflicts.\n",
            "selenium 4.5.0 requires urllib3[socks]~=1.26, but you have urllib3 1.25.11 which is incompatible.\u001b[0m\n",
            "Successfully installed Automat-20.2.0 PyDispatcher-2.0.6 Twisted-22.8.0 constantly-15.1.0 cryptography-38.0.1 cssselect-1.1.0 hyperlink-21.0.0 incremental-22.10.0 itemadapter-0.7.0 itemloaders-1.0.6 jmespath-1.0.1 parsel-1.6.0 protego-0.2.1 pyOpenSSL-22.1.0 queuelib-1.6.2 requests-file-1.5.1 scrapy-2.7.0 service-identity-21.1.0 tldextract-3.4.0 urllib3-1.25.11 w3lib-2.0.1 zope.interface-5.5.0\n"
          ]
        }
      ],
      "source": [
        "!pip install selenium\n",
        "!apt-get update # to update ubuntu to correctly run apt install\n",
        "!apt install chromium-chromedriver\n",
        "!pip install scrapy "
      ]
    },
    {
      "cell_type": "markdown",
      "metadata": {
        "id": "XSFegZHH-n2s"
      },
      "source": [
        "##### Import"
      ]
    },
    {
      "cell_type": "code",
      "execution_count": 2,
      "metadata": {
        "colab": {
          "base_uri": "https://localhost:8080/"
        },
        "id": "3si8SYT-hzuy",
        "outputId": "b8c52f3a-42bd-4d38-d88b-d38f3d3336c1"
      },
      "outputs": [
        {
          "output_type": "stream",
          "name": "stderr",
          "text": [
            "[nltk_data] Downloading package punkt to /root/nltk_data...\n",
            "[nltk_data]   Unzipping tokenizers/punkt.zip.\n",
            "[nltk_data] Downloading package vader_lexicon to /root/nltk_data...\n"
          ]
        }
      ],
      "source": [
        "# importing libraries\n",
        "\n",
        "import matplotlib.pyplot as plt\n",
        "import numpy as np\n",
        "import pandas as pd\n",
        "\n",
        "import nltk\n",
        "nltk.download('punkt')\n",
        "nltk.download('vader_lexicon')\n",
        "from nltk.sentiment.vader import SentimentIntensityAnalyzer\n",
        "from nltk.corpus import stopwords                            \n",
        "from nltk.stem import PorterStemmer\n",
        "from nltk.tokenize import sent_tokenize, word_tokenize\n",
        "from nltk.probability import FreqDist\n",
        "\n",
        "\n",
        "\n",
        "import requests\n",
        "import csv\n",
        "from bs4 import BeautifulSoup\n",
        "from urllib.request import urlopen\n",
        "\n",
        "import sys\n",
        "sys.path.insert(0,'/usr/lib/chromium-browser/chromedriver')\n",
        "#Crear Chrome Options - Necesario para Colab\n",
        "from selenium import webdriver\n",
        "options = webdriver.ChromeOptions()\n",
        "options.add_argument('--headless')\n",
        "options.add_argument('--no-sandbox')\n",
        "options.add_argument('--disable-dev-shm-usage')\n",
        "browser = webdriver.Chrome('chromedriver',options=options)\n",
        "from selenium.webdriver.common.keys import Keys\n",
        "\n",
        "import unittest\n",
        "\n",
        "from selenium import webdriver\n",
        "from selenium.webdriver.common.keys import Keys\n",
        "from selenium.webdriver.common.by import By\n",
        "from selenium.webdriver.common.action_chains import ActionChains\n",
        "\n",
        "import re\n",
        "\n",
        "import sys\n",
        "sys.path.insert(0,'/usr/lib/chromium-browser/chromedriver')\n",
        "\n",
        "\n",
        "\n",
        "from scrapy import Selector    "
      ]
    },
    {
      "cell_type": "markdown",
      "metadata": {
        "id": "aoB0Leix-tqv"
      },
      "source": [
        "##### Function"
      ]
    },
    {
      "cell_type": "code",
      "execution_count": 3,
      "metadata": {
        "id": "ck-kUlnxMpsz"
      },
      "outputs": [],
      "source": [
        "def Beauty(url):\n",
        "  page = requests.get(url)\n",
        "  soup = BeautifulSoup(page.text, 'html.parser')\n",
        "  return soup\n",
        "\n",
        "def audioORvideo(s):\n",
        "  n = 0\n",
        "  last_word = s.split()[-1] \n",
        "  last_word\n",
        "\n",
        "  if last_word == 'Video' or last_word == 'Audio':\n",
        "    n = 1\n",
        "\n",
        "  return n"
      ]
    },
    {
      "cell_type": "markdown",
      "metadata": {
        "id": "f6dbf2c8"
      },
      "source": [
        "## Exercici 1\n",
        "### Realitza web scraping de dues de les tres pàgines web proposades utilitzant BeautifulSoup primer i Selenium després. \n",
        "\n",
        "- http://quotes.toscrape.com\n",
        "\n",
        "- https://www.bolsamadrid.es\n",
        "\n",
        "- www.wikipedia.es (fes alguna cerca primer i escrapeja algun contingut)"
      ]
    },
    {
      "cell_type": "markdown",
      "metadata": {
        "id": "MlEssYC7aCQJ"
      },
      "source": [
        "Definimos las páginas con las que vamos a trabajar como variables"
      ]
    },
    {
      "cell_type": "code",
      "execution_count": 4,
      "metadata": {
        "id": "h2tlB3bSNWHM"
      },
      "outputs": [],
      "source": [
        "url_quotes = 'http://quotes.toscrape.com'\n",
        "url_wiki = 'https://en.wikipedia.org/wiki/Pappus_of_Alexandria'"
      ]
    },
    {
      "cell_type": "markdown",
      "metadata": {
        "id": "qzkM2zogK9SD"
      },
      "source": [
        "#### Scraping with BeautifulSoup "
      ]
    },
    {
      "cell_type": "markdown",
      "metadata": {
        "id": "eEvhXhrwLo0e"
      },
      "source": [
        "Empezamos con http://quotes.toscrape.com \n",
        "\n",
        "Ejecutamos la función que hemos creado que importará todo el documento HTML.\n",
        "\n",
        "Verificamos leyendo el titulo que se ha importado correctamente."
      ]
    },
    {
      "cell_type": "code",
      "execution_count": 5,
      "metadata": {
        "colab": {
          "base_uri": "https://localhost:8080/",
          "height": 35
        },
        "id": "--9ytbLNGDsh",
        "outputId": "e2ec09b2-b8f3-45b2-a8bb-9e3fca79b86b"
      },
      "outputs": [
        {
          "output_type": "execute_result",
          "data": {
            "text/plain": [
              "'Quotes to Scrape'"
            ],
            "application/vnd.google.colaboratory.intrinsic+json": {
              "type": "string"
            }
          },
          "metadata": {},
          "execution_count": 5
        }
      ],
      "source": [
        "soup_quotes = Beauty(url_quotes)\n",
        "soup_quotes.title.string"
      ]
    },
    {
      "cell_type": "markdown",
      "metadata": {
        "id": "N_0Ne0sTXw0f"
      },
      "source": [
        "Inspeccionando el código desde el navegador detectamos que el texto se encuentra dentro de la clase \"quote\".\n",
        "\n",
        "    <div class=\"quote\" itemscope itemtype=\"http://schema.org/CreativeWork\">\n",
        "        <span class=\"text\" itemprop=\"text\">“It is our choices, Harry, that show what we truly are, far more than our abilities.”</span>\n",
        "        <span>by <small class=\"author\" itemprop=\"author\">J.K. Rowling</small>\n",
        "        <a href=\"/author/J-K-Rowling\">(about)</a>\n",
        "        </span>\n",
        "        <div class=\"tags\">\n",
        "            Tags:\n",
        "            <meta class=\"keywords\" itemprop=\"keywords\" content=\"abilities,choices\" /    > \n",
        "            \n",
        "            <a class=\"tag\" href=\"/tag/abilities/page/1/\">abilities</a>\n",
        "            \n",
        "            <a class=\"tag\" href=\"/tag/choices/page/1/\">choices</a>\n",
        "            \n",
        "        </div>\n",
        "    </div>\n",
        "\n",
        "Confirmamos que hay 10 por página, al igual que número de cuotas en la página principal."
      ]
    },
    {
      "cell_type": "code",
      "execution_count": 6,
      "metadata": {
        "colab": {
          "base_uri": "https://localhost:8080/"
        },
        "id": "W2saimADRQj_",
        "outputId": "0614c58e-5ca4-4fb0-e494-43428a773500"
      },
      "outputs": [
        {
          "output_type": "execute_result",
          "data": {
            "text/plain": [
              "10"
            ]
          },
          "metadata": {},
          "execution_count": 6
        }
      ],
      "source": [
        "quote_elements = soup_quotes.find_all('div', class_='quote', itemscope=\"\")\n",
        "len(quote_elements)"
      ]
    },
    {
      "cell_type": "markdown",
      "metadata": {
        "id": "4DUZwxoTYeWk"
      },
      "source": [
        "Extraeremos dentro de cada clase \"quote\" el texto y el autor. Una vez extraido crearemos un dataset.\n",
        "\n",
        "    <span class=\"text\" itemprop=\"text\">“It is our choices, Harry, that show what we truly are, far more than our abilities.”</span>\n",
        "    <span>by <small class=\"author\" itemprop=\"author\">J.K. Rowling</small>"
      ]
    },
    {
      "cell_type": "code",
      "execution_count": 7,
      "metadata": {
        "id": "B4azTMqvQjpR"
      },
      "outputs": [],
      "source": [
        "quote = []; author = [];\n",
        "\n",
        "for x in quote_elements:\n",
        "    quote.append(x.find('span', class_='text').string)\n",
        "    author.append(x.find('small', class_='author').string)\n",
        "    "
      ]
    },
    {
      "cell_type": "code",
      "execution_count": 8,
      "metadata": {
        "colab": {
          "base_uri": "https://localhost:8080/",
          "height": 112
        },
        "id": "iifMoPzrTATZ",
        "outputId": "bc6367fa-2a6a-47ad-d8a4-64ee04e7c37a"
      },
      "outputs": [
        {
          "output_type": "execute_result",
          "data": {
            "text/plain": [
              "                                               Quote             Author\n",
              "8  “A woman is like a tea bag; you never know how...  Eleanor Roosevelt\n",
              "9  “A day without sunshine is like, you know, nig...       Steve Martin"
            ],
            "text/html": [
              "\n",
              "  <div id=\"df-837a5f2c-ff02-41f0-8eea-56fa1ec6dca1\">\n",
              "    <div class=\"colab-df-container\">\n",
              "      <div>\n",
              "<style scoped>\n",
              "    .dataframe tbody tr th:only-of-type {\n",
              "        vertical-align: middle;\n",
              "    }\n",
              "\n",
              "    .dataframe tbody tr th {\n",
              "        vertical-align: top;\n",
              "    }\n",
              "\n",
              "    .dataframe thead th {\n",
              "        text-align: right;\n",
              "    }\n",
              "</style>\n",
              "<table border=\"1\" class=\"dataframe\">\n",
              "  <thead>\n",
              "    <tr style=\"text-align: right;\">\n",
              "      <th></th>\n",
              "      <th>Quote</th>\n",
              "      <th>Author</th>\n",
              "    </tr>\n",
              "  </thead>\n",
              "  <tbody>\n",
              "    <tr>\n",
              "      <th>8</th>\n",
              "      <td>“A woman is like a tea bag; you never know how...</td>\n",
              "      <td>Eleanor Roosevelt</td>\n",
              "    </tr>\n",
              "    <tr>\n",
              "      <th>9</th>\n",
              "      <td>“A day without sunshine is like, you know, nig...</td>\n",
              "      <td>Steve Martin</td>\n",
              "    </tr>\n",
              "  </tbody>\n",
              "</table>\n",
              "</div>\n",
              "      <button class=\"colab-df-convert\" onclick=\"convertToInteractive('df-837a5f2c-ff02-41f0-8eea-56fa1ec6dca1')\"\n",
              "              title=\"Convert this dataframe to an interactive table.\"\n",
              "              style=\"display:none;\">\n",
              "        \n",
              "  <svg xmlns=\"http://www.w3.org/2000/svg\" height=\"24px\"viewBox=\"0 0 24 24\"\n",
              "       width=\"24px\">\n",
              "    <path d=\"M0 0h24v24H0V0z\" fill=\"none\"/>\n",
              "    <path d=\"M18.56 5.44l.94 2.06.94-2.06 2.06-.94-2.06-.94-.94-2.06-.94 2.06-2.06.94zm-11 1L8.5 8.5l.94-2.06 2.06-.94-2.06-.94L8.5 2.5l-.94 2.06-2.06.94zm10 10l.94 2.06.94-2.06 2.06-.94-2.06-.94-.94-2.06-.94 2.06-2.06.94z\"/><path d=\"M17.41 7.96l-1.37-1.37c-.4-.4-.92-.59-1.43-.59-.52 0-1.04.2-1.43.59L10.3 9.45l-7.72 7.72c-.78.78-.78 2.05 0 2.83L4 21.41c.39.39.9.59 1.41.59.51 0 1.02-.2 1.41-.59l7.78-7.78 2.81-2.81c.8-.78.8-2.07 0-2.86zM5.41 20L4 18.59l7.72-7.72 1.47 1.35L5.41 20z\"/>\n",
              "  </svg>\n",
              "      </button>\n",
              "      \n",
              "  <style>\n",
              "    .colab-df-container {\n",
              "      display:flex;\n",
              "      flex-wrap:wrap;\n",
              "      gap: 12px;\n",
              "    }\n",
              "\n",
              "    .colab-df-convert {\n",
              "      background-color: #E8F0FE;\n",
              "      border: none;\n",
              "      border-radius: 50%;\n",
              "      cursor: pointer;\n",
              "      display: none;\n",
              "      fill: #1967D2;\n",
              "      height: 32px;\n",
              "      padding: 0 0 0 0;\n",
              "      width: 32px;\n",
              "    }\n",
              "\n",
              "    .colab-df-convert:hover {\n",
              "      background-color: #E2EBFA;\n",
              "      box-shadow: 0px 1px 2px rgba(60, 64, 67, 0.3), 0px 1px 3px 1px rgba(60, 64, 67, 0.15);\n",
              "      fill: #174EA6;\n",
              "    }\n",
              "\n",
              "    [theme=dark] .colab-df-convert {\n",
              "      background-color: #3B4455;\n",
              "      fill: #D2E3FC;\n",
              "    }\n",
              "\n",
              "    [theme=dark] .colab-df-convert:hover {\n",
              "      background-color: #434B5C;\n",
              "      box-shadow: 0px 1px 3px 1px rgba(0, 0, 0, 0.15);\n",
              "      filter: drop-shadow(0px 1px 2px rgba(0, 0, 0, 0.3));\n",
              "      fill: #FFFFFF;\n",
              "    }\n",
              "  </style>\n",
              "\n",
              "      <script>\n",
              "        const buttonEl =\n",
              "          document.querySelector('#df-837a5f2c-ff02-41f0-8eea-56fa1ec6dca1 button.colab-df-convert');\n",
              "        buttonEl.style.display =\n",
              "          google.colab.kernel.accessAllowed ? 'block' : 'none';\n",
              "\n",
              "        async function convertToInteractive(key) {\n",
              "          const element = document.querySelector('#df-837a5f2c-ff02-41f0-8eea-56fa1ec6dca1');\n",
              "          const dataTable =\n",
              "            await google.colab.kernel.invokeFunction('convertToInteractive',\n",
              "                                                     [key], {});\n",
              "          if (!dataTable) return;\n",
              "\n",
              "          const docLinkHtml = 'Like what you see? Visit the ' +\n",
              "            '<a target=\"_blank\" href=https://colab.research.google.com/notebooks/data_table.ipynb>data table notebook</a>'\n",
              "            + ' to learn more about interactive tables.';\n",
              "          element.innerHTML = '';\n",
              "          dataTable['output_type'] = 'display_data';\n",
              "          await google.colab.output.renderOutput(dataTable, element);\n",
              "          const docLink = document.createElement('div');\n",
              "          docLink.innerHTML = docLinkHtml;\n",
              "          element.appendChild(docLink);\n",
              "        }\n",
              "      </script>\n",
              "    </div>\n",
              "  </div>\n",
              "  "
            ]
          },
          "metadata": {},
          "execution_count": 8
        }
      ],
      "source": [
        "quote_list = list(zip(quote, author))\n",
        "\n",
        "df_quotes = pd.DataFrame({\n",
        "    'Quote': quote,\n",
        "    'Author': author\n",
        "})\n",
        "\n",
        "df_quotes.tail(2)"
      ]
    },
    {
      "cell_type": "markdown",
      "metadata": {
        "id": "Ib_QE2pMY-CZ"
      },
      "source": [
        "Continuamos con una entrada de la wikipedia repitiendo el mismo proceso."
      ]
    },
    {
      "cell_type": "code",
      "execution_count": 9,
      "metadata": {
        "colab": {
          "base_uri": "https://localhost:8080/",
          "height": 35
        },
        "id": "gCI8g9kJY-Cb",
        "outputId": "42d1fe37-9210-41a6-be71-14978c457fd5"
      },
      "outputs": [
        {
          "output_type": "execute_result",
          "data": {
            "text/plain": [
              "'Pappus of Alexandria - Wikipedia'"
            ],
            "application/vnd.google.colaboratory.intrinsic+json": {
              "type": "string"
            }
          },
          "metadata": {},
          "execution_count": 9
        }
      ],
      "source": [
        "soup_wiki = Beauty(url_wiki)\n",
        "soup_wiki.title.string"
      ]
    },
    {
      "cell_type": "markdown",
      "metadata": {
        "id": "bVtdRUo4Y-Cb"
      },
      "source": [
        "En el caso de la wikipedia vamos a extraer todo el texto del artículo. Para ello debemos centrarnos en <p> que nos indica los parrafos del artículo."
      ]
    },
    {
      "cell_type": "code",
      "execution_count": 10,
      "metadata": {
        "colab": {
          "base_uri": "https://localhost:8080/",
          "height": 122
        },
        "id": "KAoinV66Y-Cd",
        "outputId": "e0204247-dbcb-48de-921e-223659feede6"
      },
      "outputs": [
        {
          "output_type": "execute_result",
          "data": {
            "text/plain": [
              "'Pappus of Alexandria (/ˈpæpəs/; Greek: Πάππος ὁ Ἀλεξανδρεύς; c.\\u2009 290\\xa0– c.\\u2009 350 AD) was one of the last great Greek mathematicians of antiquity known for his Synagoge (Συναγωγή) or Collection (c.\\u2009 340),[1] and for Pappus\\'s hexagon theorem in projective geometry. Nothing is known of his life, other than what can be found in his own writings: that he had a son named Hermodorus, and was a teacher in Alexandria.[2]Collection, his best-known work, is a compendium of mathematics in eight volumes, the bulk of which survives. It covers a wide range of topics, including geometry, recreational mathematics, doubling the cube, polygons and polyhedra.[1]Pappus was active in the 4th century AD. In a period of general stagnation in mathematical studies, he stands out as a remarkable exception.[3] \"How far he was above his contemporaries, how little appreciated or understood by them, is shown by the absence of references to him in other Greek writers, and by the fact that his work had no effect in arresting the decay of mathematical science,\" Thomas Little Heath writes. \"In this respect the fate of Pappus strikingly resembles that of Diophantus.\"[3]In his surviving writings, Pappus gives no indication of the date of the authors whose works he makes use of, or of the time (but see below) when he himself wrote. If no other date information were available, all that could be known would be that he was later than Ptolemy (died c. 168 AD), whom he quotes, and earlier than Proclus (born c.\\u2009 411), who quotes him.[3]The 10th century Suda states that Pappus was of the same age as Theon of Alexandria, who was active in the reign of Emperor Theodosius I (372–395).[4] A different date is given by a marginal note to a late 10th-century manuscript[3] (a copy of a chronological table by the same Theon), which states, next to an entry on Emperor Diocletian (reigned 284–305), that \"at that time wrote Pappus\".[citation needed]However, a verifiable date comes from the dating of a solar eclipse mentioned by Pappus himself.  In his commentary on the Almagest he calculates \"the place and time of conjunction which gave rise to the eclipse in Tybi in 1068 after Nabonassar\". This works out as 18 October 320, and so Pappus must have been active around 320.[2]The great work of Pappus, in eight books and titled Synagoge or Collection, has not survived in complete form: the first book is lost, and the rest have suffered considerably. The Suda enumerates other works of Pappus: Χωρογραφία οἰκουμενική (Chorographia oikoumenike or Description of the Inhabited World), commentary on the four books of Ptolemy\\'s Almagest, Ποταμοὺς τοὺς ἐν Λιβύῃ (The Rivers in Libya), and Ὀνειροκριτικά (The Interpretation of Dreams).[4] Pappus himself mentions another commentary of his own on the Ἀνάλημμα (Analemma) of Diodorus of Alexandria. Pappus also wrote commentaries on Euclid\\'s Elements (of which fragments are preserved in Proclus and the Scholia, while that on the tenth Book has been found in an Arabic manuscript), and on Ptolemy\\'s Ἁρμονικά (Harmonika).[3]Federico Commandino translated the Collection of Pappus into Latin in 1588. The German classicist and mathematical historian Friedrich Hultsch (1833–1908) published a definitive three-volume presentation of Commandino\\'s translation with both the Greek and Latin versions (Berlin, 1875–1878). Using Hultsch\\'s work, the Belgian mathematical historian Paul ver Eecke was the first to publish a translation of the Collection into a modern European language; his two-volume, French translation has the title Pappus d\\'Alexandrie. La Collection Mathématique. (Paris and Bruges, 1933).[5]The characteristics of Pappus\\'s Collection are that it contains an account, systematically arranged, of the most important results obtained by his predecessors, and, secondly, notes explanatory of, or extending, previous discoveries. These discoveries form, in fact, a text upon which Pappus enlarges discursively. Heath considered the systematic introductions to the various books as valuable, for they set forth clearly an outline of the contents and the general scope of the subjects to be treated. From these introductions one can judge of the style of Pappus\\'s writing, which is excellent and even elegant the moment he is free from the shackles of mathematical formulae and expressions. Heath also found his characteristic exactness made his Collection \"a most admirable substitute for the texts of the many valuable treatises of earlier mathematicians of which time has deprived us\".[3]The surviving portions of Collection can be summarized as follows.[6]We can only conjecture that the lost Book I, like Book II, was concerned with arithmetic, Book III being clearly introduced as beginning a new subject.[3]The whole of Book II (the former part of which is lost, the existing fragment beginning in the middle of the 14th proposition)[3] discusses a method of multiplication from an unnamed book by Apollonius of Perga. The final propositions deal with multiplying together the numerical values of Greek letters in two lines of poetry, producing two very large numbers approximately equal to 2×1054 and 2×1038.[7]Book III contains geometrical problems, plane and solid. It may be divided into five sections:[3]Of Book IV the title and preface have been lost, so that the program has to be gathered from the book itself. At the beginning is the well-known generalization of Euclid I.47 (Pappus\\'s area theorem), then follow various theorems on the circle, leading up to the problem of the construction of a circle which shall circumscribe three given circles, touching each other two and two. This and several other propositions on contact, e.g. cases of circles touching one another and inscribed in the figure made of three semicircles and known as arbelos (\"shoemakers knife\") form the first division of the book; Pappus turns then to a consideration of certain properties of Archimedes\\'s spiral, the conchoid of Nicomedes (already mentioned in Book I as supplying a method of doubling the cube), and the curve discovered most probably by Hippias of Elis about 420 BC, and known by the name, τετραγωνισμός, or quadratrix. Proposition 30 describes the construction of a curve of double curvature called by Pappus the helix on a sphere; it is described by a point moving uniformly along the arc of a great circle, which itself turns about its diameter uniformly, the point describing a quadrant and the great circle a complete revolution in the same time. The area of the surface included between this curve and its base is found – the first known instance of a quadrature of a curved surface. The rest of the book treats of the trisection of an angle, and the solution of more general problems of the same kind by means of the quadratrix and spiral. In one solution of the former problem is the first recorded use of the property of a conic (a hyperbola) with reference to the focus and directrix.[9]In Book V, after an interesting preface concerning regular polygons, and containing remarks upon the hexagonal form of the cells of honeycombs, Pappus addresses himself to the comparison of the areas of different plane figures which have all the same perimeter (following Zenodorus\\'s treatise on this subject), and of the volumes of different solid figures which have all the same superficial area, and, lastly, a comparison of the five regular solids of Plato. Incidentally Pappus describes the thirteen other polyhedra bounded by equilateral and equiangular but not similar polygons, discovered by Archimedes, and finds, by a method recalling that of Archimedes, the surface and volume of a sphere.[9]According to the preface, Book VI is intended to resolve difficulties occurring in the so-called \"Lesser Astronomical Works\" (Μικρὸς Ἀστρονοµούµενος), i.e. works other than the Almagest. It accordingly comments on the Sphaerica of Theodosius, the Moving Sphere of Autolycus, Theodosius\\'s book on Day and Night, the treatise of Aristarchus On the Size and Distances of the Sun and Moon, and Euclid\\'s Optics and Phaenomena.[9]Since Michel Chasles cited this book of Pappus in his history of geometric methods,[10] it has become the object of considerable attention.The preface of Book VII explains the terms analysis and synthesis, and the distinction between theorem and problem. Pappus then enumerates works of Euclid, Apollonius, Aristaeus and Eratosthenes, thirty-three books in all, the substance of which he intends to give, with the lemmas necessary for their elucidation. With the mention of the Porisms of Euclid we have an account of the relation of porism to theorem and problem. In the same preface is included (a) the famous problem known by Pappus\\'s name, often enunciated thus: Having given a number of straight lines, to find the geometric locus of a point such that the lengths of the perpendiculars upon, or (more generally) the lines drawn from it obliquely at given inclinations to, the given lines satisfy the condition that the product of certain of them may bear a constant ratio to the product of the remaining ones; (Pappus does not express it in this form but by means of composition of ratios, saying that if the ratio is given which is compounded of the ratios of pairs one of one set and one of another of the lines so drawn, and of the ratio of the odd one, if any, to a given straight line, the point will lie on a curve given in position); (b) the theorems which were rediscovered by and named after Paul Guldin, but appear to have been discovered by Pappus himself.[9]Book VII also containsChasles\\'s citation of Pappus was repeated by Wilhelm Blaschke[12] and Dirk Struik.[13] In Cambridge, England, John J. Milne gave readers the benefit of his reading of Pappus.[14] In 1985 Alexander Jones wrote his thesis at Brown University on the subject. A revised form of his translation and commentary was published by Springer-Verlag the following year. Jones succeeds in showing how Pappus manipulated the complete quadrangle, used the relation of projective harmonic conjugates, and displayed an awareness of cross-ratios of points and lines. Furthermore, the concept of pole and polar is revealed as a lemma in Book VII.[15][full citation needed]Lastly, Book VIII principally treats mechanics, the properties of the center of gravity, and some mechanical powers. Interspersed are some propositions on pure geometry. Proposition 14 shows how to draw an ellipse through five given points, and Prop. 15 gives a simple construction for the axes of an ellipse when a pair of conjugate diameters are given.[9]Pappus\\'s Collection was virtually unknown to the Arabs and medieval Europeans, but exerted great influence on 17th-century mathematics after being translated to Latin by Federico Commandino.[16] Diophantus\\'s Arithmetica and Pappus\\'s Collection were the two major sources of Viète\\'s Isagoge in artem analyticam (1591).[17] The Pappus\\'s problem and its generalization led Descartes to the development of analytic geometry.[18] Fermat also developed his version of analytic geometry and his method of Maxima and Minima from Pappus\\'s summaries of Apollonius\\'s lost works Plane Loci and On Determinate Section.[19] Other mathematicians influenced by Pappus were Pacioli, da Vinci, Kepler, van Roomen, Pascal,  Newton, Bernoulli, Euler, Gauss, Gergonne, Steiner and Poncelet. [20]Attribution:'"
            ],
            "application/vnd.google.colaboratory.intrinsic+json": {
              "type": "string"
            }
          },
          "metadata": {},
          "execution_count": 10
        }
      ],
      "source": [
        "text = ''\n",
        "for paragraph in soup_wiki.find_all('p'):\n",
        "    text += paragraph.text\n",
        "    \n",
        "text = re.sub(r'==.*?==+', '', text)\n",
        "text = text.replace('\\n', '')\n",
        "\n",
        "text"
      ]
    },
    {
      "cell_type": "markdown",
      "source": [
        "Una vez tenemos el texto aprovecharemos los conocimientos del modulo anterior y pasamos la información a un dataset organizado por palabras y apariciones."
      ],
      "metadata": {
        "id": "QlR75i4V_yCP"
      }
    },
    {
      "cell_type": "code",
      "execution_count": 11,
      "metadata": {
        "colab": {
          "base_uri": "https://localhost:8080/",
          "height": 206
        },
        "id": "Ub9J5qkdtNzM",
        "outputId": "c8840726-e16c-4328-d58a-514e09b73d33"
      },
      "outputs": [
        {
          "output_type": "execute_result",
          "data": {
            "text/plain": [
              "  Common_words  count\n",
              "0          the    149\n",
              "1           of    136\n",
              "2          and     66\n",
              "3            a     46\n",
              "4           in     40"
            ],
            "text/html": [
              "\n",
              "  <div id=\"df-c158abeb-5342-432f-91c8-6d212689bee2\">\n",
              "    <div class=\"colab-df-container\">\n",
              "      <div>\n",
              "<style scoped>\n",
              "    .dataframe tbody tr th:only-of-type {\n",
              "        vertical-align: middle;\n",
              "    }\n",
              "\n",
              "    .dataframe tbody tr th {\n",
              "        vertical-align: top;\n",
              "    }\n",
              "\n",
              "    .dataframe thead th {\n",
              "        text-align: right;\n",
              "    }\n",
              "</style>\n",
              "<table border=\"1\" class=\"dataframe\">\n",
              "  <thead>\n",
              "    <tr style=\"text-align: right;\">\n",
              "      <th></th>\n",
              "      <th>Common_words</th>\n",
              "      <th>count</th>\n",
              "    </tr>\n",
              "  </thead>\n",
              "  <tbody>\n",
              "    <tr>\n",
              "      <th>0</th>\n",
              "      <td>the</td>\n",
              "      <td>149</td>\n",
              "    </tr>\n",
              "    <tr>\n",
              "      <th>1</th>\n",
              "      <td>of</td>\n",
              "      <td>136</td>\n",
              "    </tr>\n",
              "    <tr>\n",
              "      <th>2</th>\n",
              "      <td>and</td>\n",
              "      <td>66</td>\n",
              "    </tr>\n",
              "    <tr>\n",
              "      <th>3</th>\n",
              "      <td>a</td>\n",
              "      <td>46</td>\n",
              "    </tr>\n",
              "    <tr>\n",
              "      <th>4</th>\n",
              "      <td>in</td>\n",
              "      <td>40</td>\n",
              "    </tr>\n",
              "  </tbody>\n",
              "</table>\n",
              "</div>\n",
              "      <button class=\"colab-df-convert\" onclick=\"convertToInteractive('df-c158abeb-5342-432f-91c8-6d212689bee2')\"\n",
              "              title=\"Convert this dataframe to an interactive table.\"\n",
              "              style=\"display:none;\">\n",
              "        \n",
              "  <svg xmlns=\"http://www.w3.org/2000/svg\" height=\"24px\"viewBox=\"0 0 24 24\"\n",
              "       width=\"24px\">\n",
              "    <path d=\"M0 0h24v24H0V0z\" fill=\"none\"/>\n",
              "    <path d=\"M18.56 5.44l.94 2.06.94-2.06 2.06-.94-2.06-.94-.94-2.06-.94 2.06-2.06.94zm-11 1L8.5 8.5l.94-2.06 2.06-.94-2.06-.94L8.5 2.5l-.94 2.06-2.06.94zm10 10l.94 2.06.94-2.06 2.06-.94-2.06-.94-.94-2.06-.94 2.06-2.06.94z\"/><path d=\"M17.41 7.96l-1.37-1.37c-.4-.4-.92-.59-1.43-.59-.52 0-1.04.2-1.43.59L10.3 9.45l-7.72 7.72c-.78.78-.78 2.05 0 2.83L4 21.41c.39.39.9.59 1.41.59.51 0 1.02-.2 1.41-.59l7.78-7.78 2.81-2.81c.8-.78.8-2.07 0-2.86zM5.41 20L4 18.59l7.72-7.72 1.47 1.35L5.41 20z\"/>\n",
              "  </svg>\n",
              "      </button>\n",
              "      \n",
              "  <style>\n",
              "    .colab-df-container {\n",
              "      display:flex;\n",
              "      flex-wrap:wrap;\n",
              "      gap: 12px;\n",
              "    }\n",
              "\n",
              "    .colab-df-convert {\n",
              "      background-color: #E8F0FE;\n",
              "      border: none;\n",
              "      border-radius: 50%;\n",
              "      cursor: pointer;\n",
              "      display: none;\n",
              "      fill: #1967D2;\n",
              "      height: 32px;\n",
              "      padding: 0 0 0 0;\n",
              "      width: 32px;\n",
              "    }\n",
              "\n",
              "    .colab-df-convert:hover {\n",
              "      background-color: #E2EBFA;\n",
              "      box-shadow: 0px 1px 2px rgba(60, 64, 67, 0.3), 0px 1px 3px 1px rgba(60, 64, 67, 0.15);\n",
              "      fill: #174EA6;\n",
              "    }\n",
              "\n",
              "    [theme=dark] .colab-df-convert {\n",
              "      background-color: #3B4455;\n",
              "      fill: #D2E3FC;\n",
              "    }\n",
              "\n",
              "    [theme=dark] .colab-df-convert:hover {\n",
              "      background-color: #434B5C;\n",
              "      box-shadow: 0px 1px 3px 1px rgba(0, 0, 0, 0.15);\n",
              "      filter: drop-shadow(0px 1px 2px rgba(0, 0, 0, 0.3));\n",
              "      fill: #FFFFFF;\n",
              "    }\n",
              "  </style>\n",
              "\n",
              "      <script>\n",
              "        const buttonEl =\n",
              "          document.querySelector('#df-c158abeb-5342-432f-91c8-6d212689bee2 button.colab-df-convert');\n",
              "        buttonEl.style.display =\n",
              "          google.colab.kernel.accessAllowed ? 'block' : 'none';\n",
              "\n",
              "        async function convertToInteractive(key) {\n",
              "          const element = document.querySelector('#df-c158abeb-5342-432f-91c8-6d212689bee2');\n",
              "          const dataTable =\n",
              "            await google.colab.kernel.invokeFunction('convertToInteractive',\n",
              "                                                     [key], {});\n",
              "          if (!dataTable) return;\n",
              "\n",
              "          const docLinkHtml = 'Like what you see? Visit the ' +\n",
              "            '<a target=\"_blank\" href=https://colab.research.google.com/notebooks/data_table.ipynb>data table notebook</a>'\n",
              "            + ' to learn more about interactive tables.';\n",
              "          element.innerHTML = '';\n",
              "          dataTable['output_type'] = 'display_data';\n",
              "          await google.colab.output.renderOutput(dataTable, element);\n",
              "          const docLink = document.createElement('div');\n",
              "          docLink.innerHTML = docLinkHtml;\n",
              "          element.appendChild(docLink);\n",
              "        }\n",
              "      </script>\n",
              "    </div>\n",
              "  </div>\n",
              "  "
            ]
          },
          "metadata": {},
          "execution_count": 11
        }
      ],
      "source": [
        "text = text.lower()\n",
        "tokenized_word = word_tokenize(text)\n",
        "\n",
        "tokenized_word = [w for w in tokenized_word if w.isalpha()]\n",
        "\n",
        "fdist = FreqDist(tokenized_word)\n",
        "\n",
        "word_df = pd.DataFrame(fdist.most_common(15))\n",
        "word_df.columns = ['Common_words','count']\n",
        "word_df.head()"
      ]
    },
    {
      "cell_type": "markdown",
      "metadata": {
        "id": "ynowkPNLZ-6l"
      },
      "source": [
        "#### Scraping with Selenium "
      ]
    },
    {
      "cell_type": "markdown",
      "source": [
        "Extraeremos los mismos datos que anteriormente, de la página http://quotes.toscrape.com\n",
        "\n",
        "Finalmente crearemos el dataset con los datos extraidos.\n"
      ],
      "metadata": {
        "id": "HJt6cE8iBDH-"
      }
    },
    {
      "cell_type": "code",
      "execution_count": 12,
      "metadata": {
        "colab": {
          "base_uri": "https://localhost:8080/",
          "height": 112
        },
        "id": "tQCN_pQ3bvmw",
        "outputId": "b4f31a07-b46d-4810-b3a2-a6727854fa55"
      },
      "outputs": [
        {
          "output_type": "execute_result",
          "data": {
            "text/plain": [
              "                                               Quote             Author\n",
              "8  “A woman is like a tea bag; you never know how...  Eleanor Roosevelt\n",
              "9  “A day without sunshine is like, you know, nig...       Steve Martin"
            ],
            "text/html": [
              "\n",
              "  <div id=\"df-d1d3f2f0-c2c8-426c-928b-94b01a47d72c\">\n",
              "    <div class=\"colab-df-container\">\n",
              "      <div>\n",
              "<style scoped>\n",
              "    .dataframe tbody tr th:only-of-type {\n",
              "        vertical-align: middle;\n",
              "    }\n",
              "\n",
              "    .dataframe tbody tr th {\n",
              "        vertical-align: top;\n",
              "    }\n",
              "\n",
              "    .dataframe thead th {\n",
              "        text-align: right;\n",
              "    }\n",
              "</style>\n",
              "<table border=\"1\" class=\"dataframe\">\n",
              "  <thead>\n",
              "    <tr style=\"text-align: right;\">\n",
              "      <th></th>\n",
              "      <th>Quote</th>\n",
              "      <th>Author</th>\n",
              "    </tr>\n",
              "  </thead>\n",
              "  <tbody>\n",
              "    <tr>\n",
              "      <th>8</th>\n",
              "      <td>“A woman is like a tea bag; you never know how...</td>\n",
              "      <td>Eleanor Roosevelt</td>\n",
              "    </tr>\n",
              "    <tr>\n",
              "      <th>9</th>\n",
              "      <td>“A day without sunshine is like, you know, nig...</td>\n",
              "      <td>Steve Martin</td>\n",
              "    </tr>\n",
              "  </tbody>\n",
              "</table>\n",
              "</div>\n",
              "      <button class=\"colab-df-convert\" onclick=\"convertToInteractive('df-d1d3f2f0-c2c8-426c-928b-94b01a47d72c')\"\n",
              "              title=\"Convert this dataframe to an interactive table.\"\n",
              "              style=\"display:none;\">\n",
              "        \n",
              "  <svg xmlns=\"http://www.w3.org/2000/svg\" height=\"24px\"viewBox=\"0 0 24 24\"\n",
              "       width=\"24px\">\n",
              "    <path d=\"M0 0h24v24H0V0z\" fill=\"none\"/>\n",
              "    <path d=\"M18.56 5.44l.94 2.06.94-2.06 2.06-.94-2.06-.94-.94-2.06-.94 2.06-2.06.94zm-11 1L8.5 8.5l.94-2.06 2.06-.94-2.06-.94L8.5 2.5l-.94 2.06-2.06.94zm10 10l.94 2.06.94-2.06 2.06-.94-2.06-.94-.94-2.06-.94 2.06-2.06.94z\"/><path d=\"M17.41 7.96l-1.37-1.37c-.4-.4-.92-.59-1.43-.59-.52 0-1.04.2-1.43.59L10.3 9.45l-7.72 7.72c-.78.78-.78 2.05 0 2.83L4 21.41c.39.39.9.59 1.41.59.51 0 1.02-.2 1.41-.59l7.78-7.78 2.81-2.81c.8-.78.8-2.07 0-2.86zM5.41 20L4 18.59l7.72-7.72 1.47 1.35L5.41 20z\"/>\n",
              "  </svg>\n",
              "      </button>\n",
              "      \n",
              "  <style>\n",
              "    .colab-df-container {\n",
              "      display:flex;\n",
              "      flex-wrap:wrap;\n",
              "      gap: 12px;\n",
              "    }\n",
              "\n",
              "    .colab-df-convert {\n",
              "      background-color: #E8F0FE;\n",
              "      border: none;\n",
              "      border-radius: 50%;\n",
              "      cursor: pointer;\n",
              "      display: none;\n",
              "      fill: #1967D2;\n",
              "      height: 32px;\n",
              "      padding: 0 0 0 0;\n",
              "      width: 32px;\n",
              "    }\n",
              "\n",
              "    .colab-df-convert:hover {\n",
              "      background-color: #E2EBFA;\n",
              "      box-shadow: 0px 1px 2px rgba(60, 64, 67, 0.3), 0px 1px 3px 1px rgba(60, 64, 67, 0.15);\n",
              "      fill: #174EA6;\n",
              "    }\n",
              "\n",
              "    [theme=dark] .colab-df-convert {\n",
              "      background-color: #3B4455;\n",
              "      fill: #D2E3FC;\n",
              "    }\n",
              "\n",
              "    [theme=dark] .colab-df-convert:hover {\n",
              "      background-color: #434B5C;\n",
              "      box-shadow: 0px 1px 3px 1px rgba(0, 0, 0, 0.15);\n",
              "      filter: drop-shadow(0px 1px 2px rgba(0, 0, 0, 0.3));\n",
              "      fill: #FFFFFF;\n",
              "    }\n",
              "  </style>\n",
              "\n",
              "      <script>\n",
              "        const buttonEl =\n",
              "          document.querySelector('#df-d1d3f2f0-c2c8-426c-928b-94b01a47d72c button.colab-df-convert');\n",
              "        buttonEl.style.display =\n",
              "          google.colab.kernel.accessAllowed ? 'block' : 'none';\n",
              "\n",
              "        async function convertToInteractive(key) {\n",
              "          const element = document.querySelector('#df-d1d3f2f0-c2c8-426c-928b-94b01a47d72c');\n",
              "          const dataTable =\n",
              "            await google.colab.kernel.invokeFunction('convertToInteractive',\n",
              "                                                     [key], {});\n",
              "          if (!dataTable) return;\n",
              "\n",
              "          const docLinkHtml = 'Like what you see? Visit the ' +\n",
              "            '<a target=\"_blank\" href=https://colab.research.google.com/notebooks/data_table.ipynb>data table notebook</a>'\n",
              "            + ' to learn more about interactive tables.';\n",
              "          element.innerHTML = '';\n",
              "          dataTable['output_type'] = 'display_data';\n",
              "          await google.colab.output.renderOutput(dataTable, element);\n",
              "          const docLink = document.createElement('div');\n",
              "          docLink.innerHTML = docLinkHtml;\n",
              "          element.appendChild(docLink);\n",
              "        }\n",
              "      </script>\n",
              "    </div>\n",
              "  </div>\n",
              "  "
            ]
          },
          "metadata": {},
          "execution_count": 12
        }
      ],
      "source": [
        "browser = webdriver.Chrome('chromedriver',options=options)\n",
        "browser.get(url_quotes)\n",
        "\n",
        "text = browser.find_elements(By.CLASS_NAME,'text')\n",
        "name = browser.find_elements(By.CLASS_NAME,'author')\n",
        "\n",
        "quote = []; author = [];\n",
        "\n",
        "for value in text:\n",
        "    quote.append(value.text)\n",
        "\n",
        "for value in name:\n",
        "    author.append(value.text)\n",
        "\n",
        "browser.close()\n",
        "\n",
        "quote_list = list(zip(quote, author))\n",
        "\n",
        "df_quotes = pd.DataFrame({\n",
        "    'Quote': quote,\n",
        "    'Author': author\n",
        "})\n",
        "\n",
        "df_quotes.tail(2)"
      ]
    },
    {
      "cell_type": "markdown",
      "source": [
        "Extraeremos los mismos datos que anteriormente, de la página wikipedia y crearemos el dataset con los datos extraidos."
      ],
      "metadata": {
        "id": "qn2bi4zbAqln"
      }
    },
    {
      "cell_type": "code",
      "execution_count": 13,
      "metadata": {
        "colab": {
          "base_uri": "https://localhost:8080/",
          "height": 122
        },
        "id": "8YBYpvlac2Xm",
        "outputId": "1ca49f58-188a-408e-87fe-509bbf6aa8dc"
      },
      "outputs": [
        {
          "output_type": "execute_result",
          "data": {
            "text/plain": [
              "'Pappus of Alexandria (/ˈpæpəs/; Greek: Πάππος ὁ Ἀλεξανδρεύς; c.\\u2009 290 – c.\\u2009 350 AD) was one of the last great Greek mathematicians of antiquity known for his Synagoge (Συναγωγή) or Collection (c.\\u2009 340),[1] and for Pappus\\'s hexagon theorem in projective geometry. Nothing is known of his life, other than what can be found in his own writings: that he had a son named Hermodorus, and was a teacher in Alexandria.[2]Collection, his best-known work, is a compendium of mathematics in eight volumes, the bulk of which survives. It covers a wide range of topics, including geometry, recreational mathematics, doubling the cube, polygons and polyhedra.[1]Pappus was active in the 4th century AD. In a period of general stagnation in mathematical studies, he stands out as a remarkable exception.[3] \"How far he was above his contemporaries, how little appreciated or understood by them, is shown by the absence of references to him in other Greek writers, and by the fact that his work had no effect in arresting the decay of mathematical science,\" Thomas Little Heath writes. \"In this respect the fate of Pappus strikingly resembles that of Diophantus.\"[3]In his surviving writings, Pappus gives no indication of the date of the authors whose works he makes use of, or of the time (but see below) when he himself wrote. If no other date information were available, all that could be known would be that he was later than Ptolemy (died c. 168 AD), whom he quotes, and earlier than Proclus (born c.\\u2009 411), who quotes him.[3]The 10th century Suda states that Pappus was of the same age as Theon of Alexandria, who was active in the reign of Emperor Theodosius I (372–395).[4] A different date is given by a marginal note to a late 10th-century manuscript[3] (a copy of a chronological table by the same Theon), which states, next to an entry on Emperor Diocletian (reigned 284–305), that \"at that time wrote Pappus\".[citation needed]However, a verifiable date comes from the dating of a solar eclipse mentioned by Pappus himself. In his commentary on the Almagest he calculates \"the place and time of conjunction which gave rise to the eclipse in Tybi in 1068 after Nabonassar\". This works out as 18 October 320, and so Pappus must have been active around 320.[2]The great work of Pappus, in eight books and titled Synagoge or Collection, has not survived in complete form: the first book is lost, and the rest have suffered considerably. The Suda enumerates other works of Pappus: Χωρογραφία οἰκουμενική (Chorographia oikoumenike or Description of the Inhabited World), commentary on the four books of Ptolemy\\'s Almagest, Ποταμοὺς τοὺς ἐν Λιβύῃ (The Rivers in Libya), and Ὀνειροκριτικά (The Interpretation of Dreams).[4] Pappus himself mentions another commentary of his own on the Ἀνάλημμα (Analemma) of Diodorus of Alexandria. Pappus also wrote commentaries on Euclid\\'s Elements (of which fragments are preserved in Proclus and the Scholia, while that on the tenth Book has been found in an Arabic manuscript), and on Ptolemy\\'s Ἁρμονικά (Harmonika).[3]Federico Commandino translated the Collection of Pappus into Latin in 1588. The German classicist and mathematical historian Friedrich Hultsch (1833–1908) published a definitive three-volume presentation of Commandino\\'s translation with both the Greek and Latin versions (Berlin, 1875–1878). Using Hultsch\\'s work, the Belgian mathematical historian Paul ver Eecke was the first to publish a translation of the Collection into a modern European language; his two-volume, French translation has the title Pappus d\\'Alexandrie. La Collection Mathématique. (Paris and Bruges, 1933).[5]The characteristics of Pappus\\'s Collection are that it contains an account, systematically arranged, of the most important results obtained by his predecessors, and, secondly, notes explanatory of, or extending, previous discoveries. These discoveries form, in fact, a text upon which Pappus enlarges discursively. Heath considered the systematic introductions to the various books as valuable, for they set forth clearly an outline of the contents and the general scope of the subjects to be treated. From these introductions one can judge of the style of Pappus\\'s writing, which is excellent and even elegant the moment he is free from the shackles of mathematical formulae and expressions. Heath also found his characteristic exactness made his Collection \"a most admirable substitute for the texts of the many valuable treatises of earlier mathematicians of which time has deprived us\".[3]The surviving portions of Collection can be summarized as follows.[6]We can only conjecture that the lost Book I, like Book II, was concerned with arithmetic, Book III being clearly introduced as beginning a new subject.[3]The whole of Book II (the former part of which is lost, the existing fragment beginning in the middle of the 14th proposition)[3] discusses a method of multiplication from an unnamed book by Apollonius of Perga. The final propositions deal with multiplying together the numerical values of Greek letters in two lines of poetry, producing two very large numbers approximately equal to 2×1054 and 2×1038.[7]Book III contains geometrical problems, plane and solid. It may be divided into five sections:[3]Of Book IV the title and preface have been lost, so that the program has to be gathered from the book itself. At the beginning is the well-known generalization of Euclid I.47 (Pappus\\'s area theorem), then follow various theorems on the circle, leading up to the problem of the construction of a circle which shall circumscribe three given circles, touching each other two and two. This and several other propositions on contact, e.g. cases of circles touching one another and inscribed in the figure made of three semicircles and known as arbelos (\"shoemakers knife\") form the first division of the book; Pappus turns then to a consideration of certain properties of Archimedes\\'s spiral, the conchoid of Nicomedes (already mentioned in Book I as supplying a method of doubling the cube), and the curve discovered most probably by Hippias of Elis about 420 BC, and known by the name, τετραγωνισμός, or quadratrix. Proposition 30 describes the construction of a curve of double curvature called by Pappus the helix on a sphere; it is described by a point moving uniformly along the arc of a great circle, which itself turns about its diameter uniformly, the point describing a quadrant and the great circle a complete revolution in the same time. The area of the surface included between this curve and its base is found – the first known instance of a quadrature of a curved surface. The rest of the book treats of the trisection of an angle, and the solution of more general problems of the same kind by means of the quadratrix and spiral. In one solution of the former problem is the first recorded use of the property of a conic (a hyperbola) with reference to the focus and directrix.[9]In Book V, after an interesting preface concerning regular polygons, and containing remarks upon the hexagonal form of the cells of honeycombs, Pappus addresses himself to the comparison of the areas of different plane figures which have all the same perimeter (following Zenodorus\\'s treatise on this subject), and of the volumes of different solid figures which have all the same superficial area, and, lastly, a comparison of the five regular solids of Plato. Incidentally Pappus describes the thirteen other polyhedra bounded by equilateral and equiangular but not similar polygons, discovered by Archimedes, and finds, by a method recalling that of Archimedes, the surface and volume of a sphere.[9]According to the preface, Book VI is intended to resolve difficulties occurring in the so-called \"Lesser Astronomical Works\" (Μικρὸς Ἀστρονοµούµενος), i.e. works other than the Almagest. It accordingly comments on the Sphaerica of Theodosius, the Moving Sphere of Autolycus, Theodosius\\'s book on Day and Night, the treatise of Aristarchus On the Size and Distances of the Sun and Moon, and Euclid\\'s Optics and Phaenomena.[9]Since Michel Chasles cited this book of Pappus in his history of geometric methods,[10] it has become the object of considerable attention.The preface of Book VII explains the terms analysis and synthesis, and the distinction between theorem and problem. Pappus then enumerates works of Euclid, Apollonius, Aristaeus and Eratosthenes, thirty-three books in all, the substance of which he intends to give, with the lemmas necessary for their elucidation. With the mention of the Porisms of Euclid we have an account of the relation of porism to theorem and problem. In the same preface is included (a) the famous problem known by Pappus\\'s name, often enunciated thus: Having given a number of straight lines, to find the geometric locus of a point such that the lengths of the perpendiculars upon, or (more generally) the lines drawn from it obliquely at given inclinations to, the given lines satisfy the condition that the product of certain of them may bear a constant ratio to the product of the remaining ones; (Pappus does not express it in this form but by means of composition of ratios, saying that if the ratio is given which is compounded of the ratios of pairs one of one set and one of another of the lines so drawn, and of the ratio of the odd one, if any, to a given straight line, the point will lie on a curve given in position); (b) the theorems which were rediscovered by and named after Paul Guldin, but appear to have been discovered by Pappus himself.[9]Book VII also containsChasles\\'s citation of Pappus was repeated by Wilhelm Blaschke[12] and Dirk Struik.[13] In Cambridge, England, John J. Milne gave readers the benefit of his reading of Pappus.[14] In 1985 Alexander Jones wrote his thesis at Brown University on the subject. A revised form of his translation and commentary was published by Springer-Verlag the following year. Jones succeeds in showing how Pappus manipulated the complete quadrangle, used the relation of projective harmonic conjugates, and displayed an awareness of cross-ratios of points and lines. Furthermore, the concept of pole and polar is revealed as a lemma in Book VII.[15][full citation needed]Lastly, Book VIII principally treats mechanics, the properties of the center of gravity, and some mechanical powers. Interspersed are some propositions on pure geometry. Proposition 14 shows how to draw an ellipse through five given points, and Prop. 15 gives a simple construction for the axes of an ellipse when a pair of conjugate diameters are given.[9]Pappus\\'s Collection was virtually unknown to the Arabs and medieval Europeans, but exerted great influence on 17th-century mathematics after being translated to Latin by Federico Commandino.[16] Diophantus\\'s Arithmetica and Pappus\\'s Collection were the two major sources of Viète\\'s Isagoge in artem analyticam (1591).[17] The Pappus\\'s problem and its generalization led Descartes to the development of analytic geometry.[18] Fermat also developed his version of analytic geometry and his method of Maxima and Minima from Pappus\\'s summaries of Apollonius\\'s lost works Plane Loci and On Determinate Section.[19] Other mathematicians influenced by Pappus were Pacioli, da Vinci, Kepler, van Roomen, Pascal, Newton, Bernoulli, Euler, Gauss, Gergonne, Steiner and Poncelet. [20]'"
            ],
            "application/vnd.google.colaboratory.intrinsic+json": {
              "type": "string"
            }
          },
          "metadata": {},
          "execution_count": 13
        }
      ],
      "source": [
        "browser = webdriver.Chrome('chromedriver',options=options)\n",
        "browser.get(url_wiki)\n",
        "\n",
        "wiki = '' \n",
        "\n",
        "\n",
        "\n",
        "for i in range(1,24) :\n",
        "  try: \n",
        "    text = browser.find_element(\"xpath\", f'//*[@id=\"mw-content-text\"]/div[1]/p[{i}]')\n",
        "    wiki +=  text.text\n",
        "  except : print('Error ' + i ) ; continue\n",
        "\n",
        "wiki"
      ]
    },
    {
      "cell_type": "code",
      "source": [
        "text = wiki.lower()\n",
        "tokenized_word = word_tokenize(text)\n",
        "\n",
        "tokenized_word = [w for w in tokenized_word if w.isalpha()]\n",
        "\n",
        "fdist = FreqDist(tokenized_word)\n",
        "\n",
        "word_df = pd.DataFrame(fdist.most_common(15))\n",
        "word_df.columns = ['Common_words','count']\n",
        "word_df.head()"
      ],
      "metadata": {
        "colab": {
          "base_uri": "https://localhost:8080/",
          "height": 206
        },
        "id": "FdXRv2ZCcXOV",
        "outputId": "3e49a300-57a4-40f2-a8e9-0ff399c4b9a4"
      },
      "execution_count": 14,
      "outputs": [
        {
          "output_type": "execute_result",
          "data": {
            "text/plain": [
              "  Common_words  count\n",
              "0          the    149\n",
              "1           of    136\n",
              "2          and     66\n",
              "3            a     46\n",
              "4           in     40"
            ],
            "text/html": [
              "\n",
              "  <div id=\"df-2476c9e1-4c3d-40ff-b762-c5ae05962fde\">\n",
              "    <div class=\"colab-df-container\">\n",
              "      <div>\n",
              "<style scoped>\n",
              "    .dataframe tbody tr th:only-of-type {\n",
              "        vertical-align: middle;\n",
              "    }\n",
              "\n",
              "    .dataframe tbody tr th {\n",
              "        vertical-align: top;\n",
              "    }\n",
              "\n",
              "    .dataframe thead th {\n",
              "        text-align: right;\n",
              "    }\n",
              "</style>\n",
              "<table border=\"1\" class=\"dataframe\">\n",
              "  <thead>\n",
              "    <tr style=\"text-align: right;\">\n",
              "      <th></th>\n",
              "      <th>Common_words</th>\n",
              "      <th>count</th>\n",
              "    </tr>\n",
              "  </thead>\n",
              "  <tbody>\n",
              "    <tr>\n",
              "      <th>0</th>\n",
              "      <td>the</td>\n",
              "      <td>149</td>\n",
              "    </tr>\n",
              "    <tr>\n",
              "      <th>1</th>\n",
              "      <td>of</td>\n",
              "      <td>136</td>\n",
              "    </tr>\n",
              "    <tr>\n",
              "      <th>2</th>\n",
              "      <td>and</td>\n",
              "      <td>66</td>\n",
              "    </tr>\n",
              "    <tr>\n",
              "      <th>3</th>\n",
              "      <td>a</td>\n",
              "      <td>46</td>\n",
              "    </tr>\n",
              "    <tr>\n",
              "      <th>4</th>\n",
              "      <td>in</td>\n",
              "      <td>40</td>\n",
              "    </tr>\n",
              "  </tbody>\n",
              "</table>\n",
              "</div>\n",
              "      <button class=\"colab-df-convert\" onclick=\"convertToInteractive('df-2476c9e1-4c3d-40ff-b762-c5ae05962fde')\"\n",
              "              title=\"Convert this dataframe to an interactive table.\"\n",
              "              style=\"display:none;\">\n",
              "        \n",
              "  <svg xmlns=\"http://www.w3.org/2000/svg\" height=\"24px\"viewBox=\"0 0 24 24\"\n",
              "       width=\"24px\">\n",
              "    <path d=\"M0 0h24v24H0V0z\" fill=\"none\"/>\n",
              "    <path d=\"M18.56 5.44l.94 2.06.94-2.06 2.06-.94-2.06-.94-.94-2.06-.94 2.06-2.06.94zm-11 1L8.5 8.5l.94-2.06 2.06-.94-2.06-.94L8.5 2.5l-.94 2.06-2.06.94zm10 10l.94 2.06.94-2.06 2.06-.94-2.06-.94-.94-2.06-.94 2.06-2.06.94z\"/><path d=\"M17.41 7.96l-1.37-1.37c-.4-.4-.92-.59-1.43-.59-.52 0-1.04.2-1.43.59L10.3 9.45l-7.72 7.72c-.78.78-.78 2.05 0 2.83L4 21.41c.39.39.9.59 1.41.59.51 0 1.02-.2 1.41-.59l7.78-7.78 2.81-2.81c.8-.78.8-2.07 0-2.86zM5.41 20L4 18.59l7.72-7.72 1.47 1.35L5.41 20z\"/>\n",
              "  </svg>\n",
              "      </button>\n",
              "      \n",
              "  <style>\n",
              "    .colab-df-container {\n",
              "      display:flex;\n",
              "      flex-wrap:wrap;\n",
              "      gap: 12px;\n",
              "    }\n",
              "\n",
              "    .colab-df-convert {\n",
              "      background-color: #E8F0FE;\n",
              "      border: none;\n",
              "      border-radius: 50%;\n",
              "      cursor: pointer;\n",
              "      display: none;\n",
              "      fill: #1967D2;\n",
              "      height: 32px;\n",
              "      padding: 0 0 0 0;\n",
              "      width: 32px;\n",
              "    }\n",
              "\n",
              "    .colab-df-convert:hover {\n",
              "      background-color: #E2EBFA;\n",
              "      box-shadow: 0px 1px 2px rgba(60, 64, 67, 0.3), 0px 1px 3px 1px rgba(60, 64, 67, 0.15);\n",
              "      fill: #174EA6;\n",
              "    }\n",
              "\n",
              "    [theme=dark] .colab-df-convert {\n",
              "      background-color: #3B4455;\n",
              "      fill: #D2E3FC;\n",
              "    }\n",
              "\n",
              "    [theme=dark] .colab-df-convert:hover {\n",
              "      background-color: #434B5C;\n",
              "      box-shadow: 0px 1px 3px 1px rgba(0, 0, 0, 0.15);\n",
              "      filter: drop-shadow(0px 1px 2px rgba(0, 0, 0, 0.3));\n",
              "      fill: #FFFFFF;\n",
              "    }\n",
              "  </style>\n",
              "\n",
              "      <script>\n",
              "        const buttonEl =\n",
              "          document.querySelector('#df-2476c9e1-4c3d-40ff-b762-c5ae05962fde button.colab-df-convert');\n",
              "        buttonEl.style.display =\n",
              "          google.colab.kernel.accessAllowed ? 'block' : 'none';\n",
              "\n",
              "        async function convertToInteractive(key) {\n",
              "          const element = document.querySelector('#df-2476c9e1-4c3d-40ff-b762-c5ae05962fde');\n",
              "          const dataTable =\n",
              "            await google.colab.kernel.invokeFunction('convertToInteractive',\n",
              "                                                     [key], {});\n",
              "          if (!dataTable) return;\n",
              "\n",
              "          const docLinkHtml = 'Like what you see? Visit the ' +\n",
              "            '<a target=\"_blank\" href=https://colab.research.google.com/notebooks/data_table.ipynb>data table notebook</a>'\n",
              "            + ' to learn more about interactive tables.';\n",
              "          element.innerHTML = '';\n",
              "          dataTable['output_type'] = 'display_data';\n",
              "          await google.colab.output.renderOutput(dataTable, element);\n",
              "          const docLink = document.createElement('div');\n",
              "          docLink.innerHTML = docLinkHtml;\n",
              "          element.appendChild(docLink);\n",
              "        }\n",
              "      </script>\n",
              "    </div>\n",
              "  </div>\n",
              "  "
            ]
          },
          "metadata": {},
          "execution_count": 14
        }
      ]
    },
    {
      "cell_type": "markdown",
      "metadata": {
        "id": "6YJAGjdQxznP"
      },
      "source": [
        "## Exercici 2\n",
        "###  Documenta en un Word el teu conjunt de dades generat amb la informació que tenen els diferents arxius de Kaggle.\n",
        "\n",
        " Per saber més\n",
        "\n",
        "A manera d'exemple del que es demana pots consultar aquest enllaç:\n",
        "\n",
        "->https://www.kaggle.com/datasets/vivovinco/20212022-football-team-stats.\n",
        "\n"
      ]
    },
    {
      "cell_type": "code",
      "execution_count": 15,
      "metadata": {
        "id": "sC4eIL0vGJJt",
        "colab": {
          "base_uri": "https://localhost:8080/",
          "height": 206
        },
        "outputId": "c05e777a-2fb0-4989-ab65-5730cd5d4224"
      },
      "outputs": [
        {
          "output_type": "execute_result",
          "data": {
            "text/plain": [
              "                                               Quote           Author\n",
              "0  “The world as we have created it is a process ...  Albert Einstein\n",
              "1  “It is our choices, Harry, that show what we t...     J.K. Rowling\n",
              "2  “There are only two ways to live your life. On...  Albert Einstein\n",
              "3  “The person, be it gentleman or lady, who has ...      Jane Austen\n",
              "4  “Imperfection is beauty, madness is genius and...   Marilyn Monroe"
            ],
            "text/html": [
              "\n",
              "  <div id=\"df-7c2913fa-f329-4d1e-84f7-bec7ea183355\">\n",
              "    <div class=\"colab-df-container\">\n",
              "      <div>\n",
              "<style scoped>\n",
              "    .dataframe tbody tr th:only-of-type {\n",
              "        vertical-align: middle;\n",
              "    }\n",
              "\n",
              "    .dataframe tbody tr th {\n",
              "        vertical-align: top;\n",
              "    }\n",
              "\n",
              "    .dataframe thead th {\n",
              "        text-align: right;\n",
              "    }\n",
              "</style>\n",
              "<table border=\"1\" class=\"dataframe\">\n",
              "  <thead>\n",
              "    <tr style=\"text-align: right;\">\n",
              "      <th></th>\n",
              "      <th>Quote</th>\n",
              "      <th>Author</th>\n",
              "    </tr>\n",
              "  </thead>\n",
              "  <tbody>\n",
              "    <tr>\n",
              "      <th>0</th>\n",
              "      <td>“The world as we have created it is a process ...</td>\n",
              "      <td>Albert Einstein</td>\n",
              "    </tr>\n",
              "    <tr>\n",
              "      <th>1</th>\n",
              "      <td>“It is our choices, Harry, that show what we t...</td>\n",
              "      <td>J.K. Rowling</td>\n",
              "    </tr>\n",
              "    <tr>\n",
              "      <th>2</th>\n",
              "      <td>“There are only two ways to live your life. On...</td>\n",
              "      <td>Albert Einstein</td>\n",
              "    </tr>\n",
              "    <tr>\n",
              "      <th>3</th>\n",
              "      <td>“The person, be it gentleman or lady, who has ...</td>\n",
              "      <td>Jane Austen</td>\n",
              "    </tr>\n",
              "    <tr>\n",
              "      <th>4</th>\n",
              "      <td>“Imperfection is beauty, madness is genius and...</td>\n",
              "      <td>Marilyn Monroe</td>\n",
              "    </tr>\n",
              "  </tbody>\n",
              "</table>\n",
              "</div>\n",
              "      <button class=\"colab-df-convert\" onclick=\"convertToInteractive('df-7c2913fa-f329-4d1e-84f7-bec7ea183355')\"\n",
              "              title=\"Convert this dataframe to an interactive table.\"\n",
              "              style=\"display:none;\">\n",
              "        \n",
              "  <svg xmlns=\"http://www.w3.org/2000/svg\" height=\"24px\"viewBox=\"0 0 24 24\"\n",
              "       width=\"24px\">\n",
              "    <path d=\"M0 0h24v24H0V0z\" fill=\"none\"/>\n",
              "    <path d=\"M18.56 5.44l.94 2.06.94-2.06 2.06-.94-2.06-.94-.94-2.06-.94 2.06-2.06.94zm-11 1L8.5 8.5l.94-2.06 2.06-.94-2.06-.94L8.5 2.5l-.94 2.06-2.06.94zm10 10l.94 2.06.94-2.06 2.06-.94-2.06-.94-.94-2.06-.94 2.06-2.06.94z\"/><path d=\"M17.41 7.96l-1.37-1.37c-.4-.4-.92-.59-1.43-.59-.52 0-1.04.2-1.43.59L10.3 9.45l-7.72 7.72c-.78.78-.78 2.05 0 2.83L4 21.41c.39.39.9.59 1.41.59.51 0 1.02-.2 1.41-.59l7.78-7.78 2.81-2.81c.8-.78.8-2.07 0-2.86zM5.41 20L4 18.59l7.72-7.72 1.47 1.35L5.41 20z\"/>\n",
              "  </svg>\n",
              "      </button>\n",
              "      \n",
              "  <style>\n",
              "    .colab-df-container {\n",
              "      display:flex;\n",
              "      flex-wrap:wrap;\n",
              "      gap: 12px;\n",
              "    }\n",
              "\n",
              "    .colab-df-convert {\n",
              "      background-color: #E8F0FE;\n",
              "      border: none;\n",
              "      border-radius: 50%;\n",
              "      cursor: pointer;\n",
              "      display: none;\n",
              "      fill: #1967D2;\n",
              "      height: 32px;\n",
              "      padding: 0 0 0 0;\n",
              "      width: 32px;\n",
              "    }\n",
              "\n",
              "    .colab-df-convert:hover {\n",
              "      background-color: #E2EBFA;\n",
              "      box-shadow: 0px 1px 2px rgba(60, 64, 67, 0.3), 0px 1px 3px 1px rgba(60, 64, 67, 0.15);\n",
              "      fill: #174EA6;\n",
              "    }\n",
              "\n",
              "    [theme=dark] .colab-df-convert {\n",
              "      background-color: #3B4455;\n",
              "      fill: #D2E3FC;\n",
              "    }\n",
              "\n",
              "    [theme=dark] .colab-df-convert:hover {\n",
              "      background-color: #434B5C;\n",
              "      box-shadow: 0px 1px 3px 1px rgba(0, 0, 0, 0.15);\n",
              "      filter: drop-shadow(0px 1px 2px rgba(0, 0, 0, 0.3));\n",
              "      fill: #FFFFFF;\n",
              "    }\n",
              "  </style>\n",
              "\n",
              "      <script>\n",
              "        const buttonEl =\n",
              "          document.querySelector('#df-7c2913fa-f329-4d1e-84f7-bec7ea183355 button.colab-df-convert');\n",
              "        buttonEl.style.display =\n",
              "          google.colab.kernel.accessAllowed ? 'block' : 'none';\n",
              "\n",
              "        async function convertToInteractive(key) {\n",
              "          const element = document.querySelector('#df-7c2913fa-f329-4d1e-84f7-bec7ea183355');\n",
              "          const dataTable =\n",
              "            await google.colab.kernel.invokeFunction('convertToInteractive',\n",
              "                                                     [key], {});\n",
              "          if (!dataTable) return;\n",
              "\n",
              "          const docLinkHtml = 'Like what you see? Visit the ' +\n",
              "            '<a target=\"_blank\" href=https://colab.research.google.com/notebooks/data_table.ipynb>data table notebook</a>'\n",
              "            + ' to learn more about interactive tables.';\n",
              "          element.innerHTML = '';\n",
              "          dataTable['output_type'] = 'display_data';\n",
              "          await google.colab.output.renderOutput(dataTable, element);\n",
              "          const docLink = document.createElement('div');\n",
              "          docLink.innerHTML = docLinkHtml;\n",
              "          element.appendChild(docLink);\n",
              "        }\n",
              "      </script>\n",
              "    </div>\n",
              "  </div>\n",
              "  "
            ]
          },
          "metadata": {},
          "execution_count": 15
        }
      ],
      "source": [
        "df_quotes.head()"
      ]
    },
    {
      "cell_type": "markdown",
      "metadata": {
        "id": "3cFZy805wLqB"
      },
      "source": [
        "###**About Dataset df_quotes**\n",
        "####Context\n",
        "\n",
        "This dataset contains quotes from a scraped website.\n",
        "These are all the quotes that appeared on the main page..\n",
        "\n",
        "####Content\n",
        "\n",
        "+10 rows and 2 columns.\n",
        "Columns' description are listed below.\n",
        "\n",
        "    Quote : Quotation\n",
        "    Author : Person who made the quotation\n",
        "\n",
        "####Acknowledgements\n",
        "\n",
        "http://quotes.toscrape.*com*"
      ]
    },
    {
      "cell_type": "code",
      "execution_count": 16,
      "metadata": {
        "id": "Kr98vU4NyIiQ",
        "colab": {
          "base_uri": "https://localhost:8080/",
          "height": 206
        },
        "outputId": "09b00cb9-6d21-4140-e755-191313e5e0b0"
      },
      "outputs": [
        {
          "output_type": "execute_result",
          "data": {
            "text/plain": [
              "  Common_words  count\n",
              "0          the    149\n",
              "1           of    136\n",
              "2          and     66\n",
              "3            a     46\n",
              "4           in     40"
            ],
            "text/html": [
              "\n",
              "  <div id=\"df-396e5a93-7ee8-4d0f-aa8d-e828c169eeb9\">\n",
              "    <div class=\"colab-df-container\">\n",
              "      <div>\n",
              "<style scoped>\n",
              "    .dataframe tbody tr th:only-of-type {\n",
              "        vertical-align: middle;\n",
              "    }\n",
              "\n",
              "    .dataframe tbody tr th {\n",
              "        vertical-align: top;\n",
              "    }\n",
              "\n",
              "    .dataframe thead th {\n",
              "        text-align: right;\n",
              "    }\n",
              "</style>\n",
              "<table border=\"1\" class=\"dataframe\">\n",
              "  <thead>\n",
              "    <tr style=\"text-align: right;\">\n",
              "      <th></th>\n",
              "      <th>Common_words</th>\n",
              "      <th>count</th>\n",
              "    </tr>\n",
              "  </thead>\n",
              "  <tbody>\n",
              "    <tr>\n",
              "      <th>0</th>\n",
              "      <td>the</td>\n",
              "      <td>149</td>\n",
              "    </tr>\n",
              "    <tr>\n",
              "      <th>1</th>\n",
              "      <td>of</td>\n",
              "      <td>136</td>\n",
              "    </tr>\n",
              "    <tr>\n",
              "      <th>2</th>\n",
              "      <td>and</td>\n",
              "      <td>66</td>\n",
              "    </tr>\n",
              "    <tr>\n",
              "      <th>3</th>\n",
              "      <td>a</td>\n",
              "      <td>46</td>\n",
              "    </tr>\n",
              "    <tr>\n",
              "      <th>4</th>\n",
              "      <td>in</td>\n",
              "      <td>40</td>\n",
              "    </tr>\n",
              "  </tbody>\n",
              "</table>\n",
              "</div>\n",
              "      <button class=\"colab-df-convert\" onclick=\"convertToInteractive('df-396e5a93-7ee8-4d0f-aa8d-e828c169eeb9')\"\n",
              "              title=\"Convert this dataframe to an interactive table.\"\n",
              "              style=\"display:none;\">\n",
              "        \n",
              "  <svg xmlns=\"http://www.w3.org/2000/svg\" height=\"24px\"viewBox=\"0 0 24 24\"\n",
              "       width=\"24px\">\n",
              "    <path d=\"M0 0h24v24H0V0z\" fill=\"none\"/>\n",
              "    <path d=\"M18.56 5.44l.94 2.06.94-2.06 2.06-.94-2.06-.94-.94-2.06-.94 2.06-2.06.94zm-11 1L8.5 8.5l.94-2.06 2.06-.94-2.06-.94L8.5 2.5l-.94 2.06-2.06.94zm10 10l.94 2.06.94-2.06 2.06-.94-2.06-.94-.94-2.06-.94 2.06-2.06.94z\"/><path d=\"M17.41 7.96l-1.37-1.37c-.4-.4-.92-.59-1.43-.59-.52 0-1.04.2-1.43.59L10.3 9.45l-7.72 7.72c-.78.78-.78 2.05 0 2.83L4 21.41c.39.39.9.59 1.41.59.51 0 1.02-.2 1.41-.59l7.78-7.78 2.81-2.81c.8-.78.8-2.07 0-2.86zM5.41 20L4 18.59l7.72-7.72 1.47 1.35L5.41 20z\"/>\n",
              "  </svg>\n",
              "      </button>\n",
              "      \n",
              "  <style>\n",
              "    .colab-df-container {\n",
              "      display:flex;\n",
              "      flex-wrap:wrap;\n",
              "      gap: 12px;\n",
              "    }\n",
              "\n",
              "    .colab-df-convert {\n",
              "      background-color: #E8F0FE;\n",
              "      border: none;\n",
              "      border-radius: 50%;\n",
              "      cursor: pointer;\n",
              "      display: none;\n",
              "      fill: #1967D2;\n",
              "      height: 32px;\n",
              "      padding: 0 0 0 0;\n",
              "      width: 32px;\n",
              "    }\n",
              "\n",
              "    .colab-df-convert:hover {\n",
              "      background-color: #E2EBFA;\n",
              "      box-shadow: 0px 1px 2px rgba(60, 64, 67, 0.3), 0px 1px 3px 1px rgba(60, 64, 67, 0.15);\n",
              "      fill: #174EA6;\n",
              "    }\n",
              "\n",
              "    [theme=dark] .colab-df-convert {\n",
              "      background-color: #3B4455;\n",
              "      fill: #D2E3FC;\n",
              "    }\n",
              "\n",
              "    [theme=dark] .colab-df-convert:hover {\n",
              "      background-color: #434B5C;\n",
              "      box-shadow: 0px 1px 3px 1px rgba(0, 0, 0, 0.15);\n",
              "      filter: drop-shadow(0px 1px 2px rgba(0, 0, 0, 0.3));\n",
              "      fill: #FFFFFF;\n",
              "    }\n",
              "  </style>\n",
              "\n",
              "      <script>\n",
              "        const buttonEl =\n",
              "          document.querySelector('#df-396e5a93-7ee8-4d0f-aa8d-e828c169eeb9 button.colab-df-convert');\n",
              "        buttonEl.style.display =\n",
              "          google.colab.kernel.accessAllowed ? 'block' : 'none';\n",
              "\n",
              "        async function convertToInteractive(key) {\n",
              "          const element = document.querySelector('#df-396e5a93-7ee8-4d0f-aa8d-e828c169eeb9');\n",
              "          const dataTable =\n",
              "            await google.colab.kernel.invokeFunction('convertToInteractive',\n",
              "                                                     [key], {});\n",
              "          if (!dataTable) return;\n",
              "\n",
              "          const docLinkHtml = 'Like what you see? Visit the ' +\n",
              "            '<a target=\"_blank\" href=https://colab.research.google.com/notebooks/data_table.ipynb>data table notebook</a>'\n",
              "            + ' to learn more about interactive tables.';\n",
              "          element.innerHTML = '';\n",
              "          dataTable['output_type'] = 'display_data';\n",
              "          await google.colab.output.renderOutput(dataTable, element);\n",
              "          const docLink = document.createElement('div');\n",
              "          docLink.innerHTML = docLinkHtml;\n",
              "          element.appendChild(docLink);\n",
              "        }\n",
              "      </script>\n",
              "    </div>\n",
              "  </div>\n",
              "  "
            ]
          },
          "metadata": {},
          "execution_count": 16
        }
      ],
      "source": [
        "word_df.head()"
      ]
    },
    {
      "cell_type": "markdown",
      "metadata": {
        "id": "D0ATd-VsyCKW"
      },
      "source": [
        "###**About Dataset word_df**\n",
        "####Context\n",
        "\n",
        "This dataset contains the 15 most common words on a wikipedia page from Pappus of Alexandria.\n",
        "\n",
        "####Content\n",
        "\n",
        "+15 rows and 2 columns.\n",
        "Columns' description are listed below.\n",
        "\n",
        "    Common_words : The specific word\n",
        "    count : Number of repetitions\n",
        "\n",
        "####Acknowledgements\n",
        "\n",
        "https://en.wikipedia.org/wiki/Pappus_of_Alexandria"
      ]
    },
    {
      "cell_type": "markdown",
      "metadata": {
        "id": "tD4lE3POxFek"
      },
      "source": [
        "## Exercici 3\n",
        "### Tria una pàgina web que tu vulguis i realitza web scraping mitjançant la llibreria Selenium primer i Scrapy després. "
      ]
    },
    {
      "cell_type": "code",
      "source": [
        "url3 = 'https://www.bbc.com/sport'"
      ],
      "metadata": {
        "id": "pfYPtG5lXycs"
      },
      "execution_count": 17,
      "outputs": []
    },
    {
      "cell_type": "markdown",
      "source": [
        "##### Selenium\n",
        "\n"
      ],
      "metadata": {
        "id": "G456nsmbWcG1"
      }
    },
    {
      "cell_type": "markdown",
      "source": [
        "Extraeremos la información de BBC donde se encuentran los titulares."
      ],
      "metadata": {
        "id": "5Y7CEldJFAMK"
      }
    },
    {
      "cell_type": "code",
      "source": [
        "browser = webdriver.Chrome('chromedriver',options=options)\n",
        "browser.get(url3)\n",
        "\n",
        "\n",
        "all_headlines_info = browser.find_elements(By.TAG_NAME, 'span')"
      ],
      "metadata": {
        "id": "1klpynaK6PG8"
      },
      "execution_count": 18,
      "outputs": []
    },
    {
      "cell_type": "markdown",
      "source": [
        "Extraeremos todos los titulares y los pasamos a una lista."
      ],
      "metadata": {
        "id": "6qOv3FV0H5jj"
      }
    },
    {
      "cell_type": "code",
      "source": [
        "head = []\n",
        "\n",
        "for headlines in all_headlines_info:\n",
        "    head.append(headlines.text)"
      ],
      "metadata": {
        "id": "7SqlhHdBGp0V"
      },
      "execution_count": 19,
      "outputs": []
    },
    {
      "cell_type": "markdown",
      "source": [
        " Eliminamos todos los titulares repetidos y toda aquella frase menor de 40 caracteres, dando por hecho que no son un titular.\n",
        "\n",
        "Finalmente le damos algo de formato."
      ],
      "metadata": {
        "id": "m57bD-dMETQq"
      }
    },
    {
      "cell_type": "code",
      "source": [
        "head = [x for x in head if len(x) >= 40]\n",
        "head = list(set(head))\n",
        "\n",
        "titulares = []\n",
        "\n",
        "for i in head:\n",
        "    i = re.sub(\"  \",\"\",i)\n",
        "    i = re.sub(\"\\n\",\"\",i)\n",
        "    titulares.append(i)\n",
        "\n",
        "titulares\n"
      ],
      "metadata": {
        "colab": {
          "base_uri": "https://localhost:8080/"
        },
        "id": "oqUxxv3vLyLG",
        "outputId": "ed8edabc-6e82-4c0f-ae03-3dab04bef5a5"
      },
      "execution_count": 20,
      "outputs": [
        {
          "output_type": "execute_result",
          "data": {
            "text/plain": [
              "[\"'What a play!' Judge makes brilliant sliding catch for Yankees\",\n",
              " \"Qatar officials stop Peter Tatchell's LGBT protest\",\n",
              " 'Chequered flag podcast: United States Grand Prix review. AudioChequered flag podcast: United States Grand Prix review',\n",
              " 'Alonso questions F1 direction after US GP penalty',\n",
              " 'Rugby Union Weekly: Bring on the quarter-finals!',\n",
              " '5 Live Boxing: Katie Taylor, Delboy and the fight that no one wants. Audio5 Live Boxing: Katie Taylor, Delboy and the fight that no one wants',\n",
              " \"Cristiano Ronaldo's behaviour 'unacceptable' - Micah Richards. Video\",\n",
              " \"Wrexham ban political message on striker's boots\",\n",
              " \"'What a play!' Judge makes brilliant sliding catch for Yankees. Video\",\n",
              " 'South Africa respond to Paine tampering allegation',\n",
              " 'The women who fought for their own World Cup',\n",
              " 'Lavorel dies from Isle of Man TT crash injuries',\n",
              " 'Un-Australian? Hussey enjoying coaching England',\n",
              " 'Pieters takes first steps 10 months on from crash',\n",
              " 'LIVE. Champions League: Celtic & Shakhtar Donetsk yet to find groove',\n",
              " \"Cunning cheat or unplayable genius? Inside Maradona's World Cup glory\",\n",
              " \"'Emery has unfinished business' - but why now?\",\n",
              " \"Atmosphere at Spurs 'doesn't look or feel right' Video\",\n",
              " \"Discover: The BBC's best sports podcasts. AudioDiscover: The BBC's best sports podcasts\",\n",
              " \"Cristiano Ronaldo's behaviour 'unacceptable' - Micah Richards. VideoCristiano Ronaldo's behaviour 'unacceptable' - Micah Richards\",\n",
              " \"'Top-ranked McIlroy perfectly placed for LIV fight'\",\n",
              " '5 Live Boxing: Katie Taylor, Delboy and the fight that no one wants',\n",
              " \"'A crash course in World Cup football taught by Yogi Bear & Yoda'\",\n",
              " 'Ronaldo returns to Man Utd group training',\n",
              " \"'A tragic plane crash; a stain on football's reputation'\",\n",
              " \"'Netball isn't just a girls' sport' - England men set for international debut\",\n",
              " 'TMS podcast: King Kohli leads India to thrilling last-ball World Cup win. Audio',\n",
              " 'Rugby Union Weekly: Bring on the quarter-finals! AudioRugby Union Weekly: Bring on the quarter-finals!',\n",
              " \"Is Bayern's dominance bad for the Bundesliga? VideoIs Bayern's dominance bad for the Bundesliga?\",\n",
              " 'Roy back for England ODI series in Australia',\n",
              " 'Why Brazil’s yellow shirt has become a political symbol',\n",
              " \"Murphy opens up on 'life-changing' stomach surgery\",\n",
              " 'Griner loses appeal against nine-year Russian jail term',\n",
              " \"'Doors are not open' for black managers - Vieira\",\n",
              " 'TMS podcast: King Kohli leads India to thrilling last-ball World Cup win',\n",
              " 'Hudson-Odoi on life in Germany, Bayer Leverkusen and Chelsea',\n",
              " \"Is Bayern's dominance bad for the Bundesliga? Video\",\n",
              " 'LIVE. EFL: Two Championship matches plus League One & League Two',\n",
              " 'TMS podcast: King Kohli leads India to thrilling last-ball World Cup win. AudioTMS podcast: King Kohli leads India to thrilling last-ball World Cup win',\n",
              " 'Hamilton & Alonso grab some of Red Bull’s limelight',\n",
              " 'Fight Talk: Taylor or Shields - who is the GWOAT?',\n",
              " 'Champions League: Celtic & Shakhtar Donetsk yet to find groove',\n",
              " \"She was a 'queen of two courts' - but the world looked away\",\n",
              " \"Is Bayern's dominance bad for the Bundesliga?\",\n",
              " '5 Live Boxing: Katie Taylor, Delboy and the fight that no one wants. Audio',\n",
              " \"Betrayed by his Olympic team-mate - a Jewish champion's survival story\",\n",
              " 'Tipuric named Wales captain for autumn series',\n",
              " 'Ronaldo refused to come on as substitute - Ten Hag. Video',\n",
              " 'TMS podcast: Impressive India, wobbly Wallabies and incredible Ireland',\n",
              " 'Max Verstappen has now won his 13 race in a single season and sits in the exclusive club alongside Sebastian Vettel and Michael Schumacher.',\n",
              " 'TMS podcast: Impressive India, wobbly Wallabies and incredible Ireland. Audio',\n",
              " 'Murray battles back to beat Safiullin in Basel',\n",
              " 'McKee & Pitbull to fight Rizin stars in Japan',\n",
              " 'Ronaldo refused to come on as substitute - Ten Hag. VideoRonaldo refused to come on as substitute - Ten Hag',\n",
              " 'Chequered flag podcast: United States Grand Prix review. Audio',\n",
              " 'Ronaldo refused to come on as substitute - Ten Hag',\n",
              " \"Hudson-Odoi enjoying 'fresh start' with Leverkusen\",\n",
              " 'EFL: Two Championship matches plus League One & League Two',\n",
              " \"'What a play!' Judge makes brilliant sliding catch for Yankees. Video'What a play!' Judge makes brilliant sliding catch for Yankees\",\n",
              " 'Big sporting events & full 2022 calendar',\n",
              " \"Discover: The BBC's best sports podcasts\",\n",
              " \"Ghana's top flight to resume after case dismissed\",\n",
              " \"Cristiano Ronaldo's behaviour 'unacceptable' - Micah Richards\",\n",
              " 'Stoinis smashes Australia to win over Sri Lanka',\n",
              " 'Football Daily podcast: Emery takes reins at Villa. Audio',\n",
              " 'Football Daily podcast: Emery takes reins at Villa. AudioFootball Daily podcast: Emery takes reins at Villa',\n",
              " \"'It’s getting ridiculous now' - O'Neil fury at VAR\",\n",
              " \"'We thought we'd changed everything. The fight goes on'\",\n",
              " \"Atmosphere at Spurs 'doesn't look or feel right' VideoAtmosphere at Spurs 'doesn't look or feel right'\",\n",
              " 'Chelsea reach knockout stage with win at Salzburg',\n",
              " \"The birth of the world's first great black batter\",\n",
              " 'Rugby Union Weekly: Bring on the quarter-finals! Audio',\n",
              " \"Atmosphere at Spurs 'doesn't look or feel right'\",\n",
              " 'Chequered flag podcast: United States Grand Prix review',\n",
              " 'Football Daily podcast: Emery takes reins at Villa',\n",
              " 'England U21 star Balogun open to Nigeria call-up',\n",
              " 'LIVE. Champions League: Man City face Dortmund after Chelsea reach last 16',\n",
              " 'Hudson-Odoi on life in Germany, Bayer Leverkusen and Chelsea. Video',\n",
              " 'TMS podcast: Impressive India, wobbly Wallabies and incredible Ireland. AudioTMS podcast: Impressive India, wobbly Wallabies and incredible Ireland',\n",
              " 'Hudson-Odoi on life in Germany, Bayer Leverkusen and Chelsea. VideoHudson-Odoi on life in Germany, Bayer Leverkusen and Chelsea',\n",
              " 'Benrahma and Zouma help Hammers beat Bournemouth',\n",
              " \"Discover: The BBC's best sports podcasts. Audio\",\n",
              " 'Champions League: Man City face Dortmund after Chelsea reach last 16']"
            ]
          },
          "metadata": {},
          "execution_count": 20
        }
      ]
    },
    {
      "cell_type": "markdown",
      "source": [
        "##### Scrapy"
      ],
      "metadata": {
        "id": "x78r2Pu2WYpZ"
      }
    },
    {
      "cell_type": "markdown",
      "source": [
        "Extraeremos la información de BBC donde se encuentran los titulares."
      ],
      "metadata": {
        "id": "2cUKiDzDEcmC"
      }
    },
    {
      "cell_type": "code",
      "execution_count": 21,
      "metadata": {
        "id": "Fjcwf1GaGJj-"
      },
      "outputs": [],
      "source": [
        "html = requests.get(url3).content\n",
        "sel = Selector(text = html)\n",
        "\n",
        "sports_titulares = sel.xpath('//p/span/text()').extract()"
      ]
    },
    {
      "cell_type": "markdown",
      "source": [
        "Extraeremos todos los titulares y le daremos algo de formato. Además quitaremos todos los titulares repetidos que acaban con 'Video' o 'Audio'."
      ],
      "metadata": {
        "id": "xLWB5MN3EizK"
      }
    },
    {
      "cell_type": "code",
      "source": [
        "titulares =[]\n",
        "for i in sports_titulares:\n",
        "  if audioORvideo(i) == 0:\n",
        "    i = re.sub(\"  \",\"\",i)\n",
        "    i = re.sub(\"\\n\",\"\",i)\n",
        "    titulares.append(i)\n",
        "\n",
        "\n",
        "titulares"
      ],
      "metadata": {
        "id": "NtIoEJVrgcYN",
        "colab": {
          "base_uri": "https://localhost:8080/"
        },
        "outputId": "2b8e62c0-3a25-4b58-cb9b-dc31cd958280"
      },
      "execution_count": 22,
      "outputs": [
        {
          "output_type": "execute_result",
          "data": {
            "text/plain": [
              "['Champions League: Man City face Dortmund after Chelsea reach last 16',\n",
              " 'Champions League: Celtic & Shakhtar Donetsk yet to find groove',\n",
              " 'Stoinis smashes Australia to win over Sri Lanka',\n",
              " \"'Top-ranked McIlroy perfectly placed for LIV fight'\",\n",
              " 'Chelsea reach knockout stage with win at Salzburg',\n",
              " 'EFL: Two Championship matches plus League One & League Two',\n",
              " \"Is Bayern's dominance bad for the Bundesliga?\",\n",
              " 'Ronaldo returns to Man Utd group training',\n",
              " 'Pieters takes first steps 10 months on from crash',\n",
              " \"'Emery has unfinished business' - but why now?\",\n",
              " 'Griner loses appeal against nine-year Russian jail term',\n",
              " 'Lavorel dies from Isle of Man TT crash injuries',\n",
              " \"'Doors are not open' for black managers - Vieira\",\n",
              " \"Wrexham ban political message on striker's boots\",\n",
              " \"'It’s getting ridiculous now' - O'Neil fury at VAR\",\n",
              " 'Murray battles back to beat Safiullin in Basel',\n",
              " 'Roy back for England ODI series in Australia',\n",
              " \"Qatar officials stop Peter Tatchell's LGBT protest\",\n",
              " 'McKee & Pitbull to fight Rizin stars in Japan',\n",
              " 'Un-Australian? Hussey enjoying coaching England',\n",
              " 'Tipuric named Wales captain for autumn series',\n",
              " 'South Africa respond to Paine tampering allegation',\n",
              " \"Hudson-Odoi enjoying 'fresh start' with Leverkusen\",\n",
              " \"'Netball isn't just a girls' sport' - England men set for international debut\",\n",
              " 'Alonso questions F1 direction after US GP penalty',\n",
              " 'Fields shines as Bears beat Patriots',\n",
              " \"Murphy opens up on 'life-changing' stomach surgery\",\n",
              " 'Hamilton & Alonso grab some of Red Bull’s limelight',\n",
              " 'Fight Talk: Taylor or Shields - who is the GWOAT?',\n",
              " \"Cunning cheat or unplayable genius? Inside Maradona's World Cup glory\",\n",
              " \"The birth of the world's first great black batter\",\n",
              " \"'A tragic plane crash; a stain on football's reputation'\",\n",
              " \"Betrayed by his Olympic team-mate - a Jewish champion's survival story\",\n",
              " \"She was a 'queen of two courts' - but the world looked away\",\n",
              " \"'We thought we'd changed everything. The fight goes on'\",\n",
              " 'The women who fought for their own World Cup',\n",
              " 'Why Brazil’s yellow shirt has become a political symbol',\n",
              " \"'A crash course in World Cup football taught by Yogi Bear & Yoda'\",\n",
              " 'Hudson-Odoi on life in Germany, Bayer Leverkusen and Chelsea',\n",
              " \"Atmosphere at Spurs 'doesn't look or feel right'\",\n",
              " \"'What a play!' Judge makes brilliant sliding catch for Yankees\",\n",
              " 'Ronaldo refused to come on as substitute - Ten Hag',\n",
              " \"Cristiano Ronaldo's behaviour 'unacceptable' - Micah Richards\",\n",
              " \"Discover: The BBC's best sports podcasts\",\n",
              " 'Football Daily podcast: Emery takes reins at Villa',\n",
              " 'TMS podcast: Impressive India, wobbly Wallabies and incredible Ireland',\n",
              " '5 Live Boxing: Katie Taylor, Delboy and the fight that no one wants',\n",
              " 'Chequered flag podcast: United States Grand Prix review',\n",
              " 'Rugby Union Weekly: Bring on the quarter-finals!',\n",
              " 'TMS podcast: King Kohli leads India to thrilling last-ball World Cup win',\n",
              " 'Big sporting events & full 2022 calendar',\n",
              " 'More from BBC News',\n",
              " 'Where and how to watch BBC World News',\n",
              " 'Premier League top stories',\n",
              " 'European football news',\n",
              " 'World Football podcasts',\n",
              " 'Find out more about our BBC Sport app',\n",
              " \"Ghana's top flight to resume after case dismissed\",\n",
              " 'England U21 star Balogun open to Nigeria call-up',\n",
              " 'Benrahma and Zouma help Hammers beat Bournemouth',\n",
              " 'Twitter',\n",
              " 'Facebook',\n",
              " 'Instagram',\n",
              " 'YouTube']"
            ]
          },
          "metadata": {},
          "execution_count": 22
        }
      ]
    }
  ],
  "metadata": {
    "colab": {
      "collapsed_sections": [
        "JCMfN8Dv0l03",
        "XSFegZHH-n2s",
        "aoB0Leix-tqv"
      ],
      "provenance": []
    },
    "kernelspec": {
      "display_name": "Python 3",
      "name": "python3"
    },
    "language_info": {
      "name": "python"
    }
  },
  "nbformat": 4,
  "nbformat_minor": 0
}